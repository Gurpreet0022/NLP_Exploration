{
  "nbformat": 4,
  "nbformat_minor": 0,
  "metadata": {
    "colab": {
      "provenance": []
    },
    "kernelspec": {
      "name": "python3",
      "display_name": "Python 3"
    },
    "language_info": {
      "name": "python"
    }
  },
  "cells": [
    {
      "cell_type": "code",
      "execution_count": 1,
      "metadata": {
        "colab": {
          "base_uri": "https://localhost:8080/"
        },
        "id": "fUryBcdj_Njy",
        "outputId": "1cefc0a0-57c3-44d8-8427-f3d3ab02c3ae"
      },
      "outputs": [
        {
          "output_type": "stream",
          "name": "stderr",
          "text": [
            "[nltk_data] Downloading package punkt_tab to /root/nltk_data...\n",
            "[nltk_data]   Unzipping tokenizers/punkt_tab.zip.\n"
          ]
        },
        {
          "output_type": "execute_result",
          "data": {
            "text/plain": [
              "True"
            ]
          },
          "metadata": {},
          "execution_count": 1
        }
      ],
      "source": [
        "import pandas as pd\n",
        "import numpy as np\n",
        "import nltk\n",
        "nltk.download('punkt_tab')"
      ]
    },
    {
      "cell_type": "code",
      "source": [
        "df=pd.read_csv('/content/sentiment_analysis.csv')"
      ],
      "metadata": {
        "id": "jLE8zvBh_c-b"
      },
      "execution_count": 2,
      "outputs": []
    },
    {
      "cell_type": "code",
      "source": [
        "print(df.head())"
      ],
      "metadata": {
        "colab": {
          "base_uri": "https://localhost:8080/"
        },
        "id": "ZYQe___2_kOB",
        "outputId": "f2ac2b3b-dd74-4d60-c1f1-331823502112"
      },
      "execution_count": null,
      "outputs": [
        {
          "output_type": "stream",
          "name": "stdout",
          "text": [
            "   Year  Month  Day Time of Tweet  \\\n",
            "0  2018      8   18       morning   \n",
            "1  2018      8   18          noon   \n",
            "2  2017      8   18         night   \n",
            "3  2022      6    8       morning   \n",
            "4  2022      6    8          noon   \n",
            "\n",
            "                                                text sentiment     Platform  \n",
            "0              What a great day!!! Looks like dream.  positive    Twitter    \n",
            "1     I feel sorry, I miss you here in the sea beach  positive    Facebook   \n",
            "2                                     Don't angry me  negative     Facebook  \n",
            "3  We attend in the class just for listening teac...  negative    Facebook   \n",
            "4                  Those who want to go, let them go  negative   Instagram   \n"
          ]
        }
      ]
    },
    {
      "cell_type": "code",
      "source": [
        "print(df.info())\n",
        "print(df.isna().sum())"
      ],
      "metadata": {
        "colab": {
          "base_uri": "https://localhost:8080/"
        },
        "id": "-8KdMiTH_p1z",
        "outputId": "7764f6ee-caff-49c9-ca12-537fef24dd63"
      },
      "execution_count": null,
      "outputs": [
        {
          "output_type": "stream",
          "name": "stdout",
          "text": [
            "<class 'pandas.core.frame.DataFrame'>\n",
            "RangeIndex: 499 entries, 0 to 498\n",
            "Data columns (total 7 columns):\n",
            " #   Column         Non-Null Count  Dtype \n",
            "---  ------         --------------  ----- \n",
            " 0   Year           499 non-null    int64 \n",
            " 1   Month          499 non-null    int64 \n",
            " 2   Day            499 non-null    int64 \n",
            " 3   Time of Tweet  499 non-null    object\n",
            " 4   text           499 non-null    object\n",
            " 5   sentiment      499 non-null    object\n",
            " 6   Platform       499 non-null    object\n",
            "dtypes: int64(3), object(4)\n",
            "memory usage: 27.4+ KB\n",
            "None\n",
            "Year             0\n",
            "Month            0\n",
            "Day              0\n",
            "Time of Tweet    0\n",
            "text             0\n",
            "sentiment        0\n",
            "Platform         0\n",
            "dtype: int64\n"
          ]
        }
      ]
    },
    {
      "cell_type": "markdown",
      "source": [
        "**Word Tokenization**"
      ],
      "metadata": {
        "id": "6_sQr3oig411"
      }
    },
    {
      "cell_type": "code",
      "source": [
        "words=df['text'].apply(nltk.word_tokenize)\n",
        "print(words.head())"
      ],
      "metadata": {
        "colab": {
          "base_uri": "https://localhost:8080/"
        },
        "id": "x_44rVef_4Hg",
        "outputId": "ed60fdbb-715f-4f9c-f16c-bade54cf515e"
      },
      "execution_count": null,
      "outputs": [
        {
          "output_type": "stream",
          "name": "stdout",
          "text": [
            "0    [What, a, great, day, !, !, !, Looks, like, dr...\n",
            "1    [I, feel, sorry, ,, I, miss, you, here, in, th...\n",
            "2                                 [Do, n't, angry, me]\n",
            "3    [We, attend, in, the, class, just, for, listen...\n",
            "4         [Those, who, want, to, go, ,, let, them, go]\n",
            "Name: text, dtype: object\n"
          ]
        }
      ]
    },
    {
      "cell_type": "markdown",
      "source": [
        "**Stopwords**"
      ],
      "metadata": {
        "id": "YOoH99ZghFgX"
      }
    },
    {
      "cell_type": "code",
      "source": [
        "from nltk.corpus import stopwords\n",
        "nltk.download('stopwords')\n",
        "stop_words= set(stopwords.words('english'))\n"
      ],
      "metadata": {
        "colab": {
          "base_uri": "https://localhost:8080/"
        },
        "id": "IAw7GtiTCdTD",
        "outputId": "5283e8e7-4554-41ef-8d38-131d7a4c403e"
      },
      "execution_count": null,
      "outputs": [
        {
          "output_type": "stream",
          "name": "stderr",
          "text": [
            "[nltk_data] Downloading package stopwords to /root/nltk_data...\n",
            "[nltk_data]   Unzipping corpora/stopwords.zip.\n"
          ]
        }
      ]
    },
    {
      "cell_type": "code",
      "source": [
        "words=df['text'].apply(nltk.word_tokenize)\n",
        "filtered_words=[]\n",
        "for word_list in words:\n",
        "  for word in word_list:\n",
        "    if word.lower() not in stop_words:\n",
        "      filtered_words.append(word)\n",
        "print(filtered_words)"
      ],
      "metadata": {
        "colab": {
          "base_uri": "https://localhost:8080/"
        },
        "id": "1dtgB1WMF19c",
        "outputId": "70f18390-babc-4717-f844-75219ae96316"
      },
      "execution_count": null,
      "outputs": [
        {
          "output_type": "stream",
          "name": "stdout",
          "text": [
            "['great', 'day', '!', '!', '!', 'Looks', 'like', 'dream', '.', 'feel', 'sorry', ',', 'miss', 'sea', 'beach', \"n't\", 'angry', 'attend', 'class', 'listening', 'teachers', 'reading', 'slide', '.', 'Nonsence', 'want', 'go', ',', 'let', 'go', 'night', '2', ',', 'feeling', 'neutral', '2', 'feedings', 'baby', 'fun', 'smiles', 'coos', 'Soooo', 'high', 'Today', 'first', 'time', 'arrive', 'boat', '.', 'amazing', 'journey', 'Love', 'something', 'like', 'E=MC^2', 'rules', 'really', 'really', 'like', 'song', 'Cardigan', 'Taylor', 'Swift', 'Sharpie', 'running', 'DANGERously', 'low', 'ink', 'want', 'go', 'music', 'tonight', 'lost', 'voice', '.', 'Always', 'somewhere', 'miss', \"n't\", 'distrube', \"n't\", 'care', ',', '`', 'sick', 'past', 'days', \"'m\", 'come', 'back', 'home', ',', 'past', 'job', ',', 'really', 'good', 'time', 'never', 'fall', 'love', 'found', 'oh', 'Maya', ',', '`', 'sorry', '!', '!', 'hope', 'find', 'soon', '!', '!', 'Playing', 'kids', ',', 'amazing', 'cleaning', 'house', 'family', 'comming', 'later', 'today', '..', 'tried', 'shtdown', 'pc', 'accenditenly', 'click', 'restart', 'button', '.', 'really', 'disgusting', 'Follow', ',', 'follow', 'amazing', 'game', ',', 'playing', 'everyday', '`', 'sorry', '.', \"'m\", 'village', 'hardly', 'found', 'internate', ',', 'feeling', 'gloomy', 'juss', 'came', 'back', 'Barisal', 'Went', 'sleep', 'power', 'cut', 'village', '.', 'looks', 'like', 'company', 'new', 'logo', '?', 'buy', 'Sophie', \"'s\", 'world', 'book', ',', \"'m\", 'really', 'happy', 'consolation', 'got', 'BMI', 'tested', 'hahaha', 'says', 'obesed', 'well', 'much', 'unhappy', '10', 'minutes', '.', '`', 'funny', '.', 'Cute', 'kids', '.', 'Ahhh', ',', 'slept', 'game', '.', '`', 'gon', 'na', 'try', 'best', 'watch', 'tomorrow', 'though', '.', 'hope', 'play', 'Army', '.', 'semester', 'final', 'exam', 'complete', '.', 'Hurray', '!', '!', '!', 'Born', 'raised', 'NYC', 'living', 'Texas', 'past', '10', 'years', '!', 'still', 'miss', 'NY', 'case', 'wonder', ',', 'really', 'busy', 'today', 'coming', 'adding', 'tons', 'new', 'blogs', 'updates', 'stay', 'tuned', '`', 'soooooo', 'sleeeeepy', '!', '!', '!', 'last', 'day', '`', 'school', 'today', '....', 'sniffle', '....', 'romance', 'zero', 'funny', 'Car', 'happy', ',', 'big', 'big', 'dent', 'boot', '!', 'Hoping', 'theyre', 'going', 'write', ',', 'crossing', 'fingers', 'waiting', 'Yor', 'unromantic', 'MAYDAY', '?', '!', '`', 'rather', 'early', 'run', '..', 'morning', 'runner', 'love', '!', '`', 'available', '5pm', '.', 'dear', '?', 'girl', 'hair', 'salon', 'asked', \"'Shall\", 'trim', 'eyebrows', '!', \"'\", 'old', 'feel', '?', 'talk', 'im', 'soo', 'bored', ',', \"n't\", 'like', 'music', 'video', 'concert', 'amazing', 'nicotine', 'replacement', 'patch', '4', 'hours', '.', 'far', ',', 'good', ',', 'sleep', '4', 'hours', '.', 'Getting', 'bit', 'twitchy', 'raining', ',', 'need', 'umbrella', 'sleeping', '.', 'lost', 'voice', 'couple', 'day', 'ago', '.', \"'m\", 'depressed', ',', \"'m\", 'thinking', 'suicide', ',', 'need', '?', '`', 'heard', 'fall', '.', '`', 'waiting', '!', 'saw', 'amazing', 'nightmare', 'yesterday', 'night', 'CREEPER', 'feel', 'disappointed', '.', 'bad', 'headech', ',', 'need', 'happy', 'mother', '`', 'day', 'moms', '.', 'Mothers', 'real', 'hero', 'Grabbing', 'coffee', 'making', 'mom', 'breakfast', 'im', 'thinking', 'im', 'going', 'fun', 'tonight', 'Yesterday', 'valuable', 'day', 'Haha', 'know', ',', 'cant', 'handle', 'fame', '!', 'thank', '!', 'One', 'suggestion', ',', 'date', 'Always', 'love', 'everyone', ',', 'love', 'animals', '.', 'important', 'love', 'parents', \"'m\", 'playing', 'minecraft', 'video', 'game', '.', \"'m\", 'addicated', '.', 'See', 'cloud', 'great', 'day', '!', '!', '!', 'Looks', 'like', 'dream', '.', 'feel', 'sorry', ',', 'miss', 'sea', 'beach', \"n't\", 'angry', 'attend', 'class', 'listening', 'teachers', 'reading', 'slide', '.', 'Nonsence', 'want', 'go', ',', 'let', 'go', 'night', '2', ',', 'feeling', 'neutral', '2', 'feedings', 'baby', 'fun', 'smiles', 'coos', 'Soooo', 'high', 'Today', 'first', 'time', 'arrive', 'boat', '.', 'amazing', 'journey', 'Love', 'something', 'like', 'E=MC^2', 'rules', 'really', 'really', 'like', 'song', 'Cardigan', 'Taylor', 'Swift', 'Sharpie', 'running', 'DANGERously', 'low', 'ink', 'want', 'go', 'music', 'tonight', 'lost', 'voice', '.', 'Always', 'somewhere', 'miss', \"n't\", 'distrube', \"n't\", 'care', ',', '`', 'sick', 'past', 'days', \"'m\", 'come', 'back', 'home', ',', 'past', 'job', ',', 'really', 'good', 'time', 'never', 'fall', 'love', 'found', 'oh', 'Maya', ',', '`', 'sorry', '!', '!', 'hope', 'find', 'soon', '!', '!', 'Playing', 'kids', ',', 'amazing', 'cleaning', 'house', 'family', 'comming', 'later', 'today', '..', 'tried', 'shtdown', 'pc', 'accenditenly', 'click', 'restart', 'button', '.', 'really', 'disgusting', 'Follow', ',', 'follow', 'amazing', 'game', ',', 'playing', 'everyday', '`', 'sorry', '.', \"'m\", 'village', 'hardly', 'found', 'internate', ',', 'feeling', 'gloomy', 'juss', 'came', 'back', 'Barisal', 'Went', 'sleep', 'power', 'cut', 'village', '.', 'looks', 'like', 'company', 'new', 'logo', '?', 'buy', 'Sophie', \"'s\", 'world', 'book', ',', \"'m\", 'really', 'happy', 'consolation', 'got', 'BMI', 'tested', 'hahaha', 'says', 'obesed', 'well', 'much', 'unhappy', '10', 'minutes', '.', '`', 'funny', '.', 'Cute', 'kids', '.', 'Ahhh', ',', 'slept', 'game', '.', '`', 'gon', 'na', 'try', 'best', 'watch', 'tomorrow', 'though', '.', 'hope', 'play', 'Army', '.', 'semester', 'final', 'exam', 'complete', '.', 'Hurray', '!', '!', '!', 'Born', 'raised', 'NYC', 'living', 'Texas', 'past', '10', 'years', '!', 'still', 'miss', 'NY', 'case', 'wonder', ',', 'really', 'busy', 'today', 'coming', 'adding', 'tons', 'new', 'blogs', 'updates', 'stay', 'tuned', '`', 'soooooo', 'sleeeeepy', '!', '!', '!', 'last', 'day', '`', 'school', 'today', '....', 'sniffle', '....', 'romance', 'zero', 'funny', 'Car', 'happy', ',', 'big', 'big', 'dent', 'boot', '!', 'Hoping', 'theyre', 'going', 'write', ',', 'crossing', 'fingers', 'waiting', 'Yor', 'unromantic', 'MAYDAY', '?', '!', '`', 'rather', 'early', 'run', '..', 'morning', 'runner', 'love', '!', '`', 'available', '5pm', '.', 'dear', '?', 'girl', 'hair', 'salon', 'asked', \"'Shall\", 'trim', 'eyebrows', '!', \"'\", 'old', 'feel', '?', 'talk', 'Grabbing', 'coffee', 'making', 'mom', 'breakfast', 'im', 'thinking', 'im', 'going', 'fun', 'tonight', '....', 'maybe', 'changes', 'coming', 'thanks', '.', 'major', 'chop', '.', 'Haha', 'know', ',', 'cant', 'handle', 'fame', '!', 'thank', '!', 'got', 'updated', 'ipod', 'still', 'loving', ',', 'love', 'Lets', 'go', ',', 'time', 'play', 'cricket', 'match', 'Hey', 'everyone', ',', 'watch', 'cricket', 'match', 'eng', 'vs', 'aus', 'yesterday', 'Australia', 'cricket', 'team', 'love', 'means', '`', 'going', 'come', 'back', 'vancouver', 'way', '!', 'hahah', 'Feeling', 'smooth', 'like', 'chrome', 'feeling', 'gloomy', 'Today', 'go', 'concert', 'need', 'coffee', '.', 'Sounds', 'like', 'Bad', 'day', 'day', 'realize', 'mess', '`', 'put', 'one', 'happiest', 'days', 'life', '...', 'Walking', 'class', '.', 'hate', 'bike', '....', 'especially', 'mine', '.', \"'m\", 'start', 'learning', 'machine', 'learning', 'failed', 'inspection', '.', 'Lets', 'sing', 'song', 'happy', 'father', '`', 'day', 'father', 'world', '.', 'Today', ',', 'semester', 'final', 'exam', 'really', 'great', 'Really', 'great', 'day', 'exception', 'short', 'dude', 'Congratulation', 'achievement', 'followed', 'us', 'recently', ',', 'PLEASE', 'dont', 'offended', '`', 'followed', 'back', '.', 'hit', 'limit', '.', 'Yes', 'work', '9', '5', 'Hmmm', ',', 'maybe', '`', 'meant', '.', 'Done', 'spa', 'meeting', 'vic', 'late', 'lunch', '!', 'Happy', 'monday', 'going', 'tavares', 'today', '.', 'Hope', 'everyone', 'blessed', 'day', '!', 'Always', 'wanted', 'go', 'university', 'Thanks', 'Really', 'great', 'football', 'match', '`', 'need', 'Okay', '`', 'dedicating', '300th', 'tweet', 'fact', '`', 'going', 'Apple', 'store', 'HUGE', 'crack', 'glass', 'screen', '!', 'could', 'ever', 'actually', 'allowed', 'stay', 'Let', 'know', 'turns', '!', '!', 'sass', 'detect', '?', 'long', '`', 'back', 'sass', '!', 'Haha', 'yeah', 'thinking', ',', 'ahaha', 'Today', 'EEE', 'day', '`', 'sleeping', 'accepts', 'appology', \"'m\", 'studying', 'psychology', 'live', 'pain', ',', 'bring', 'okay', ',', '`', 'back', 'later', '!', 'visited', 'worlds', 'longest', 'sea', 'beach', ',', 'really', 'amazing', 'time', 'us', 'almost', 'died', '.', 'Laptop', 'screen', 'set', '100', '%', 'brightness', 'reinstalled', 'Windows', 'Vista', '.', 'Waiting', 'tish', 'get', '.', 'Got', 'drive', 'moms', 'CRV', 'pick', 'duckie', '.', 'First', 'time', 'attitude', 'looks', 'like', 'autistics', 'child', 'going', 'shower', '`', 'want', 'smell', 'school', 'tomorrow', 'know', 'sign', 'languages', 'Since', 'demise', 'Woolworths', '`', 'easy', 'find', 'reasonably', 'priced', 'pick', 'n', 'mix', 'anywhere', 'may', 'fourth', '!', 'happy', 'star', 'wars', 'day', 'got', 'home', 'work', 'Yes', '.', 'Please', 'dont', '`', 'go', '.', 'die', 'cry', '..', 'normally', 'leads', 'small', 'animals', 'getting', 'harmed', 'writing', 'report', 'cards', 'soooo', 'tired', 'amazing', 'day', '.', 'check', 'fb', 'soon', '!', 'big', 'brother', 'good', 'news', ':', 'finally', 'finished', 'bachelor', 'degree', 'Well', 'good', 'morning', ',', 'wonderful', 'day', 'neighborhood', 'Thanks', 'following', 'another', '60', 'morning', 'yesterday', \"'m\", 'watch', 'movie', ',', '’', 'really', 'motivated', 'hope', 'ok', '!', '`', 'school', 'done', 'already', '?', 'hurts', 'much', '...', 'seeing', 'every', 'day', 'waited', ',', 'listening', 'wind', 'blowing', 'tumbleweed', '?', 'none', 'old', 'enough', 'know', 'someone', 'says', \"'Crackerack\", \"'\", '?', 'Hell', 'Yeah', '!', 'shirt', 'dinner', '?', 'need', 'ask', '?', '?', 'actually', 'Ville', '?', 'know', '!', '!', 'Smelly', '?', 'Noooo', '.', 'love', 'alex', 'Vixon', 'Went', 'party', 'last', 'night', '.', 'GREAT', 'MINDS', 'THINK', 'ALIKE', 'Anyway', ',', 'happy', 'birthday', 'Happy', 'birthday', '!', 'woke', 'side', 'Earth', ',', 'wishes', 'bit', 'late', 'thank', 'teaching', 'values', 'better', 'person', 'day', 'LOVE', 'MUCH', ',', '`', 'BEST', 'MUM', 'WORLD', 'HAPPY', 'MOTHERS', 'DAY', '.', '!', 'laughs', '`', 'glad', 'self', 'confidence', '-', '`', 'wonderful', 'trait', '`', 'applaud', 'extra', 'loud', ',', 'okay', '?', 'Thanks', 'twittering', '2', 'days', '!', 'Getting', 'ready', 'week', 'nice', 'today', 'stuck', 'inside', 'working', '!', 'tres', 'depressed', 'Felt', 'like', '*', '*', '*', '*', ',', 'behaved', 'like', 'son', ';', 'ate', 'compensate', '.', 'Pigged', 'home-roasted', 'sugar', 'almonds', '.', 'Painful', 'tum', ',', 'threw', ',', 'still', 'feel', 'sick', '.', 'Happy', 'Mothers', 'Day', 'people', '.', 'love', 'mom', 'lot', 'still', '`', 'sorry', 'hear', '.', '`', 'awesome', 'dude', ',', 'yay', 'surprise', 'celebrities', '!', 'got', 'meet', 'years', 'ago', ',', 'soooo', 'friendly', '.', 'makes', 'happy', 'hear', 'girl', 'talk', ',', 'tweet', ',', 'nba', '.', '...', 'could', 'give', 'nuggets', 'love', '?', '!', 'getting', 'hang', 'Twitter', '.', 'know', 'neck', 'jacked', 'forced', 'pay', 'parking', 'bc', '`', 'turn', 'head', 'parallel', 'park', 'free', 'spaces', '...', 'want', 'BACK', '!', 'Going', 'miss', 'roomie', '...', 'longer', 'roomies', 'starting', 'tomorrow', 'bathing', 'two', 'little', 'angels', ',', 'Keyla', 'Janice', '.', 'Yep', ',', 'finished', ',', 'chocked', 'full', 'spelling', 'grammatical', 'errors', ',', '`', 'cleaning', 'tomorrow', 'popping', 'hehe', 'HAHAHHA', 'lol', 'true', '!', 'always', 'remember', 'BD', 'never', 'remember', 'date', 'even', 'day', 'Family', ',', 'hanging', 'Watching', 'Ellen', 'Love', '!', '!', 'dishes', 'tanning', '...', '`', 'gorgeous', '!', '`', 'goin', 'hun', '?', '`', 'worried', 'Im', 'bannished', '...', 'work', 'till', '6', 'Morning', '!', 'get', 'see', ',', '`', 'let', 'know', '.', 'Right', ',', '`', 'going', 'go', 'see', 'Wolverine', '.', 'Grabbing', 'coffee', 'making', 'mom', 'breakfast', 'im', 'thinking', 'im', 'going', 'fun', 'tonight', '....', 'maybe', 'changes', 'coming', 'Grabbing', 'coffee', 'making', 'mom', 'breakfast', 'im', 'thinking', 'im', 'going', 'fun', 'tonight', '....', 'maybe', 'changes', 'coming', 'thanks', '.', 'major', 'chop', '.', 'Haha', 'know', ',', 'cant', 'handle', 'fame', '!', 'thank', '!', 'got', 'updated', 'ipod', 'yes', '!', 'sober', 'HAHAHA', 'tanghaling', 'tapat', 'dude', '!', 'haha', 'WILD', '.', '`', 'knowwww', 'plan', 'plan', 'go', 'US', '!', 'never', 'miss', 'ICarly', '-', 'son', 'huge', 'crush', 'Miranda', 'Saw', 'James', 'carville', 'store', 'today', '.', 'head', 'really', 'bald', 'love', 'blue', 'programming', 'means', '`', 'going', 'come', 'back', 'vancouver', 'way', '!', 'hahah', 'Feeling', 'smooth', 'like', 'chrome', 'Errors', 'red', 'life', 'looks', 'like', 'blue', 'film', 'downloading', 'songs', 'trying', 'sneak', 'lil', 'homework', ',', 'main', 'priority', 'songs', 'lol', 'Errors', 'red', 'life', 'blue', ',', 'love', 'rose', 'lips', 'baby', 'Sounds', 'like', 'Bad', 'day', 'day', 'realize', 'mess', '`', 'put', 'one', 'happiest', 'days', 'life', '...', 'Walking', 'class', '.', 'hate', 'bike', '....', 'especially', 'mine', '.', 'sounds', 'good', 'failed', 'inspection', '.', 'know', 'pass', 'wo/oven', ',', 'wo/anti-tip', 'bracket', ',', 'sold', 'w/oven', '?', 'worse', 'taxes', '.', 'JONAS', 'BROTHERS', '-', 'Live', 'party', '.', '`', 'rocking', 'hard', 'love', 'song', ',', 'happy', 'mother', '`', 'day', 'mothers', 'world', '.', \"'ve\", 'got', 'fever', ',', 'chcek', ',', 'good', 'song', ',', \"'m\", 'listening', 'song', 'everytime', 'Fun', 'night', '!', 'Listened', 'next', 'episode', 'turkey', 'drama', 'exception', 'short', 'dude', ':', 'Larenz', 'fineass', 'Tate', 'yum', 'Screw', 'reviews', ',', 'thought', 'Wolverine', 'awesome', '.', 'enough', 'Dominic', 'Monaghan', 'liking', '.', 'followed', 'us', 'recently', ',', 'PLEASE', 'dont', 'offended', '`', 'followed', 'back', '.', 'hit', 'limit', '.', 'Hopefully', 'free', 'soon', '.', 'Yes', 'work', '6', '3', '...', 'Hmmm', ',', 'maybe', '`', 'meant', '.', 'eluded', 'something', 'brand', 'new', 'know', 'media', 'Done', 'spa', 'meeting', 'vic', 'late', 'lunch', '!', 'Happy', 'monday', 'going', 'tavares', 'today', '.', 'Hope', 'everyone', 'blessed', 'day', '!', 'Always', 'wanted', 'go', 'Oz', 'Thx', 'love', 'youtube', 'tutorial', '`', 'need', '...', 'represent', 'Blackberries', 'Okay', '`', 'dedicating', '300th', 'tweet', 'fact', '`', 'going', 'Apple', 'store', 'HUGE', 'crack', 'glass', 'screen', '!', 'could', 'ever', 'actually', 'allowed', 'stay', 'Let', 'know', 'turns', '!', '!', 'sass', 'detect', '?', 'long', '`', 'back', 'sass', '!', 'Haha', 'yeah', 'thinking', ',', 'ahaha', 'Dont', 'know', 'whether', 'helps', '.', 'Google', 'know', '`', 'sleeping', 'accepts', 'appology', 'Wolverine', 'BOSS', '!', 'Seriously', ',', 'Will.I.Am', ',', '*', '*', '*', '*', '?', '?', 'live', 'pain', ',', 'bring', 'okay', ',', '`', 'back', 'later', '!', '#', 'powerblog', 'powerblog', 'challenge', 'keep', 'talking', '?', '`', 'newbie', 'follower', 'almost', 'died', '.', 'Laptop', 'screen', 'set', '100', '%', 'brightness', 'reinstalled', 'Windows', 'Vista', '.', 'Got', 'headache', '#', 'insanedefaults', 'Waiting', 'tish', 'get', '.', 'Got', 'drive', 'moms', 'CRV', 'pick', 'duckie', '.', 'First', 'time', 'Trying', 'decide', 'movie', 'friends', '..', 'going', 'well', '!', 'lol', ':', 'p', 'bible', 'study', '2nite', ',', 'means', '*', '*', '*', '*', '-day', 'cake', 'buy', '?', '?', 'going', 'shower', '`', 'want', 'smell', 'school', 'tomorrow', 'Sigh', '...', 'know', '...', 'discovered', 'cause', 'bug', 'new', '4', 'build', '.', 'Publishing', 'bug', 'fix', ',', 'hopefully', 'new', 'beta', 'tomorrow', '4', 'FREE', 'notebooks', 'know', 'machine', 'learning', 'well', 'got', 'home', 'work', '....', 'chugging', 'big', 'bottle', 'apple', 'juice', '.', 'Yes', '.', 'Please', 'dont', '`', 'go', '.', 'die', 'cry', '..', 'normally', 'leads', 'small', 'animals', 'getting', 'harmed', 'writing', 'report', 'cards', 'soooo', 'tired', 'amazing', 'day', '.', 'check', 'fb', 'soon', '!', 'big', 'brother', '...', '`', 'done', 'good', 'news', ':', 'finally', 'finished', 'workout', 'paused', '6', 'hours', '.', 'bad', 'news', ':', 'resistance', 'band', 'torn', 'Well', 'good', 'morning', ',', 'wonderful', 'day', 'neighborhood', 'Thanks', 'following', 'another', '60', 'morning', 'FTSK', 'Mercy', 'Mercedes', 'amazing', 'tonight', '..', 'always', 'hope', 'ok', '!', '`', 'school', 'done', 'already', '?', 'hurts', 'much', '...', 'seeing', 'every', 'day', 'waited', ',', 'listening', 'wind', 'blowing', 'tumbleweed', '?', 'none', 'old', 'enough', 'know', 'someone', 'says', \"'Crackerack\", \"'\", '?', 'Hell', 'Yeah', '!', 'shirt', 'dinner', '?', 'need', 'ask', '?', '?', 'actually', 'Ville', '?', 'know', '!', '!', 'huh', '*', '*', '*', '*', '?', 'Smelly', '?', 'Noooo', '.', 'love', 'alex', 'Vixon', 'Went', 'party', 'last', 'night', '.', 'Dindin', 'showed', 'matching', 'outfits', ')', 'GREAT', 'MINDS', 'THINK', 'ALIKE', ')', 'Anyway', ',', 'happy', 'birthday', ',', 'ate', 'lara', 'Happy', 'b-day', '!', 'woke', 'side', 'Earth', ',', 'wishes', 'bit', 'late', 'thank', 'teaching', 'values', 'better', 'person', 'day', 'LOVE', 'MUCH', ',', '`', 'BEST', 'MUM', 'WORLD', 'HAPPY', 'MOTHERS', 'DAY', '.', '!', '*', 'laughs', '*', '`', 'glad', 'self', 'confidence', '-', '`', 'wonderful', 'trait', '`', 'applaud', 'extra', 'loud', ',', 'okay', '?', 'Thanks', 'twittering', '2', 'days', '!', 'Getting', 'ready', 'week', 'nice', 'today', 'stuck', 'inside', 'working', '!', 'tres', 'depressed', 'Felt', 'like', '*', '*', '*', '*', ',', 'behaved', 'like', 'son', ';', 'ate', 'compensate', '.', 'Pigged', 'home-roasted', 'sugar', 'almonds', '.', 'Painful', 'tum', ',', 'threw', ',', 'still', 'feel', 'sick', '.', 'Happy', 'Mothers', 'Day', 'people', '.', 'love', 'mom', 'lot', 'still', '`', 'sorry', 'hear', '.', '`', 'awesome', 'dude', ',', 'yay', 'surprise', 'celebrities', '!', 'got', 'meet', 'years', 'ago', ',', 'soooo', 'friendly', '.', 'makes', 'happy', 'hear', 'girl', 'talk', ',', 'tweet', ',', 'nba', '.', '...', 'could', 'give', 'nuggets', 'love', '?', '!', 'getting', 'hang', 'Twitter', '.', 'know', 'neck', 'jacked', 'forced', 'pay', 'parking', 'bc', '`', 'turn', 'head', 'parallel', 'park', 'free', 'spaces', '...', 'want', 'BACK', '!', 'Going', 'miss', 'roomie', '...', 'longer', 'roomies', 'starting', 'tomorrow', 'bathing', 'two', 'little', 'angels', ',', 'Keyla', 'Janice', '.', 'Yep', ',', 'finished', ',', 'chocked', 'full', 'spelling', 'grammatical', 'errors', ',', '`', 'cleaning', 'tomorrow', 'popping', 'hehe', 'HAHAHHA', 'lol', 'true', '!', 'always', 'remember', 'BD', 'never', 'remember', 'date', 'even', 'day', 'Family', ',', 'hanging', 'Watching', 'Ellen', 'Love', '!', '!', 'dishes', 'tanning', '...', '`', 'gorgeous', '!', '`', 'goin', 'hun', '?', '`', 'worried', 'Im', 'bannished', '...', 'work', 'till', '6', 'Morning', '!', 'get', 'see', ',', '`', 'let', 'know', '.', 'Right', ',', '`', 'going', 'go', 'see', 'Wolverine', '.', 'red', 'top', 'tabloids', ',', 'build', 'em', ',', 'knock', 'em', 'tonight', 'party', 'w/', 'girls', '(', 'minus', 'vita', ')', 'made', 'sad', 'thought', '`', 'jumping', 'joy', 'Simple', 'pics', 'uploaded', 'baby', 'pics', 'cats', '.', 'Missy', 'adult', 'pretty', 'little', 'kitty', ',', 'Batty', 'kitten', 'heaven', 'saw', 'play', ',', 'amazing', 'glad', 'break', 'twitter', 'virginity', 'two', '.', 'Dinner', 'fam', '...', 'missed', 'Live', '`', 'want', '.', 'better', '.', 'Bound', 'bad', 'eggs', 'though', ',', 'soon', 'learn', '.', 'Hell', 'yeah', 'Kellynn', 'got', 'Twitter', '.', 'Finally', '.', 'know', 'worth', 'shot', ',', 'though', '!', 'opened', 'facebook', 'account', ',', '`', 'little', 'confused', '`', 'really', 'get', '.', 'Twitter', 'seems', 'much', 'better', 'Ship', '.', '`', 'stuck', '.', 'DUSTBIN', 'BABY', '11.30', 'wait', 'x', 'going', 'dwell', '.', 'happened', ',', '`', 'passed', '.', 'shame', 'supportive', '!', 'life', '!', 'x', 'whats', 'day', 'going', 'looks', 'like', 'office', 'TV', 'get', 'MLB', 'Network', 'Home', 'empty', 'handed', '.', 'comics', 'found', 'today', '.', 'shall', 'indulge', 'cupcakes', 'Magnolia', 'Bakery', '.', 'Laying', 'bed', 'til', 'workkk', '...', 'Oh', 'life', '.', 'Definitely', 'pinched', 'nerve', '.', 'today', 'busy', 'day', '.', 'exhausting', '!', 'going', 'go', 'Sunday', ',', '`', 'got', 'much', 'going', 'weekend', 'Sorry', 'hear', 'ur', 'flight', 'got', 'cancelled', 'blows', '!', '!', '!', 'ohh', 'tooth', 'hurts', 'ohh', 'im', 'sad', 'hurts', 'get', 'distracted', ',', '`', 'like', 'thank', 'new', 'followers', 'taking', 'trouble', 'follow', '!', 'others', ':', 'feelin', 'love', 'u', 'think', 'u', 'bills', 'Ha', '!', 'Ii', 'finished', 'paying', 'mine', '`', '`', 'broke', 'sure', '`', 'say', '2', 'big', '.', 'jst', 'saw', 'pics', 'u', 'ur', 'last', 'bday', '.', 'looked', 'pretty', '!', '!', 'miss', '!', '!', 'sore', 'throat', '.', 'Planning', 'TET', 'outing', 'Marwell', 'though', '...', 'good', 'times', 'mcfly', 'gig', 'last', 'nightt', 'omg', 'amazin', 'didnt', 'sit', 'whole', 'thing', 'mcfly', 'see', 'best', 'mate', 'tutus', '2', 'days', 'without', 'sleep', 'migraine', '.', 'thought', 'life', 'postR01', 'meant', 'relaxing', '!', '?', 'sucks', '!', '?', '..', 'whens', 'sway', 'sway', 'winner', 'announced', '?', 'K', 'check', '...', 'pretty', 'well', ',', 'wide', 'awake', 'want', 'wake', 'early', ',', 'get', 'coffee', 'tomorrow', '(', 'today', ')', '!', '`', 'going', 'busyy', 'day', '!', 'keep', 'writing', '..', 'booo', 'whoo', '!', 'Miss', 'Daddy', 'Mommy', 'dog', 'officially', 'depressed', 'brother', '`', 'dogs', 'gone', '.', '`', 'want', 'go', 'outside', ',', 'play', 'half-heartedly', '.', 'realized', '`', 'forward', 'text', 'msgs', 'iPhone', '.', 'frist', 'post', '...', 'find', 'new', 'car', 'parents', ',', 'exciting', '!', 'Argh', 'noo', '!', 'Missed', 'Killers', 'Wossy', '!', 'sucks', '!', 'Missed', 'Brandon', '.', 'Total', 'failure', '!', 'Anyone', 'know', '`', 'repeated', '?', 'Must', 'investigate', '!', 'seriously', 'bored', 'without', 'anyone', 'talk', '...', 'tired', 'enough', 'sleep', 'lost', '.', 'Please', 'help', 'find', 'good', 'home', '.', '`', 'Peter', '&', 'Gordon', 'morning', '-', '>', ',', 'go', 'pieces', 'wan', 'na', 'hide', '/', 'Go', 'pieces', 'almost', 'die', '/', 'Ever', '...', '?', 'http', ':', '//blip.fm/~5yk38', 'Ok', '`', 'got', 'bit', 'bad', 'back', 'lifting', 'drum', 'hardware', 'car', 'downer', '.', 'LMAO', '...', 'Smh', '!', 'one', 'threw', '.', 'oh', 'nice', 'going', '!', 'getting', 'ready', 'work', '...', 'Working', 'weekend', 'Gon', 'na', 'celebrate', 'Mothers', 'Day', 'family', 'gon', 'na', 'start', 'partying', 'tonite', 'agree', '!', 'computers', '.', 'hopeless', 'everything', 'else', '90', 'degrees', ',', 'gross', 'skies', ',', 'thunderstorms', '...', 'perfect', 'match', 'mood', 'lol', '_2nd', 'aww', 'thanks', '!', 'Sorry', 'RB', 'PS3', 'saw', 'amazing', 'heeels', '.', 'big', 'stuck', 'finger', 'throat', 'bunch', 'bumps', 'tongue', '&', 'throat', '.', 'dang', 'last', 'url', 'went', '?', 'http', ':', '//blip.fm/~7aigm', 'ohoh', 'missed', 'ur', 'tweets', 'im', 'gon', 'na', 'stay', 'awake', 'night', 'see', 'announcement', ',', '*', '*', '*', '*', 'time', 'difference', 'Damnit', '.', 'sucks', '.', 'one', 'ones', 'thought', '`', 'drag', 'back', 'lol', 'boss', '.', '`', 'moving', 'NYC', 'sooo', 'crazy', 'fever', '..', 'spending', 'Saturday', 'morning', 'taking', 'notes', 'research', 'essay', 'stupid', '*', '*', '*', '*', 'recalled', 'book', '`', 'using', '.', 'fair', 'think', 'need', 'new', 'friends', 'Looking', 'forward', 'gig', 'Ireland', '!', '!', '!', 'See', 'ya', '!', \"'\", 'watching', 'movie', 'name', 'Adimurie', 'aww', 'loooove', 'hungry', ',', 'twitter', '.', 'want', 'food', '.', 'awesome', 'lucky', 'yea', ',', 'know', '..', 'tell', 'EVERYTHING', '!', 'ps', ':', 'send', 'direct', 'messages', 'telling', '..', 'haha', 'haha', 'im', 'jewish', ',', 'love', 'one', 'great', 'time', 'beer', 'garden', 'wit', 'boyos', '!', '!', 'think', 'sun', 'got', 'bit', 'though', ',', 'feel', 'bit', 'ill', '!', '!', 'l', '`', '3', 'days', 'matt', '.', 'fun', 'weekend', '.', 'u', 'really', '`', 'think', '?', 'maybe', 'ur', 'right', '....', 'lol', '.', 'btw', 'phone', 'u', 'using', '?', 'think', 'u', 'told', 'b4', '...', 'might', 'app', 'u', 'feel', 'pain', '.', 'Mine', 'way', 'comes', 'home', 'two', 'days', 'Sadly', '.', '`', 'come', 'one', '...', 'Cant', 'wait', 'see', 'boy', 'tomorrow', 'ehhh', '.', 'check', '.', 'dentist', 'app', 'next', 'week', 'though', '.', 'getting', 'molar', 'pulled/root', 'canal', '.', 'aww', 'miss', 'driving', 'elmwood', 'Omg', 'Wango', 'Tango', '*', '*', '*', '*', 'AWSOME', '!', 'love', 'baby', 'taking', 'Version', '2', 'live', ',', 'interactive', 'Trans-Siberian', 'ticket', 'planner', 'launched', '_30439', 'really', 'wish', 'could', 'go', '!', 'yeah', 'real', 'hard', ',', 'know', '`', 'get', '...', 'smile', '`', '25', 'december', '`', 'good', 'next', 'big', 'birthday', '30', '21', 'flys', 'sure', 'made', 'night', '!', '!', 'Way', 'funny', '!', '!', 'Woo', 'CAVS', '.', 'Happy', 'Mother', '`', 'Day', '!', 'make', 'face', 'get', 'home', 'mom', 'watching', 'soaps', '.', 'go', 'work', '.', '`', 'believe', 'went', 'got', 'boba', 'without', '.', ',', 'today', '?', 'Thanks', 'warm', 'welcome', '!', '`', 'make', 'plans', 'arrival', 'time', 'air', '.', '19', 'days', 'counting', 'sorry', 'friends', '-', '`', 'swamped', 'deadlines', 'right', 'family', 'visiting', 'boot', '!', 'charades', '.', 'BRAINFREEZE', 'discovered', 'shortcoming', 'Gravity', '.', 'use', 'Twitpic', '(', 'integrated', ')', '`', 'subtract', 'pic', 'URL', '140', 'character', 'limit', 'sunburn', 'peeling', ',', 'perky', 'purple', 'nail', 'polish', '`', 'perky', 'chipped', 'http', ':', '//twitpic.com/4sx96', '-', 'put', 'CAMERA', 'smokers', 'pit', '.', 'longer', 'vandalize', 'door', ',', 'without', 'caught', '.', 'Laying', 'ALONE', '!', '!', 'Since', 'Mook', '`', 'soo', 'comfy', 'f', '`', 'n', 'play', 'pen', '.', 'thought', 'ill', 'first', '`', 'one', 'cuddle', '...', 'hate', 'dentist', 'nothing', 'aimed', ',', 'joining', '...', 'sorry', '`', 'taking', 'twitter', 'break', '.', 'Cell', 'dying', 'qood', 'morninq', 'writing', 'english', 'original', 'writing', 'storyyyyy', '.', 'listening', '`', 'little', 'respect', '`', 'erasure', 'aaaaaah', '.', 'needs', 'followers', 'wish', 'could', 'get', 'nails', 'done', 'stupid', 'job', 'little', 'wormy', 'labyrinth', 'sadly', 'passed', 'away', 'today', 'ok', 'hes', 'still', 'around', 'happy', 'ghost', 'form', 'aww', 'http', ':', '//twitpic.com/67aim', \"'no\", 'pants', \"'\", 'idea', 'could', 'new', 'attempt', 'world-wide', 'attract', 'business', 'back', 'airlines', '.', 'good', 'one', 'yep', 'infact', 'popular', ',', 'miss', 'india', '99', ',', 'talented', 'film', 'actress', '....', 'lot', 'Dosen', '`', 'Want', 'Go', 'Work', 'Tomorrow', 'Daniel', 'DSDS', '.', 'voice', 'great', '.', 'need', 'blood', 'negative', 'hoping', 'go', 'Red', 'Lobster', 'weekend', '_x_ATL', 'u', 'mean', 'jack', 'barakat', '`', '?', '!', 'wow', 'u', 'ever', 'gone', 'house', '?', 'Hehe', 'mean', 'ur', 'ssoo', 'lucky', 'address', '!', 'sure', 'hope', 'becomes', '4:20', 'afternoon', '...', 'means', 'FAMOUS', '.', 'Congrats', '!', 'phone', 'passed', 'away', 'yesterday', '..', 'jumped', 'table', 'Searching', 'new', 'phone', '...', 'fantastic', 'friends', ',', 'including', 'several', 'ones', 'met', '!', 'thanks', 'life', '-', 'amazing', 'people', '!', 'tamlyn', 'wishes', 'cool', 'sock', 'draw', 'rice', 'crusty', 'bread', 'chili', '....', 'aawww', 'like', 'minds', 'evening', ',', 'dear', '!', 'come', 'save', 'packing', 'please', '?', '!', 'Yes', ',', 'love', 'tea', '.', 'makes', 'typically', 'English', 'mouth', 'sure', '_dec0de', 'finally', '1', 'hour', 'history', '...', '3.00', 'pm', '!', 'went', 'highschool', '8.00', 'make', 'homework', 'friend', 'pancakes', '!', '!', 'lemon', 'sugar', 'thanks', '!', 'Si', ',', 'bueno', 'guess', '`', 'entertain', '`', 'hunrgy', 'right', 'heels', 'kill', 'hardly', 'walk', 'electronic', 'keys', 'stopped', 'working', '.', 'keyhole', '!', 'cant', 'get', 'car', '.', 'much', 'technology', 'Yay', ',', 'three', 'followers', '!', 'Good', 'know', 'one', 'person', 'big', 'wide', 'world', 'likes', 'fishies', '.', \"'my\", 'name', 'Tony', '!', '!', '!', '!', '!', '!', '...', 'hey', '!', '!', '!', '!', \"'\", '-', 'poor', 'tony', 'Goodmorning', 'Took', 'shift', 'tomorrow', '.', '`', 'really', 'feel', 'like', 'working', 'right', '.', 'love', 'mine', ',', '.', 'happy', 'motherÃ¯Â¿Â½s', 'day', 'mom', ',', 'John', 'Taylor', '.', 'much', 'love', ',', '.', 'Saw', 'black', 'snake', 'garden', '.', 'Went', 'back', 'picture', 'gone', 'http', ':', '//twitpic.com/4wukt', '-', 'bought', 'Ludi', 'rug', '.', 'Dogs', 'best', 'waterfront', 'anymore', 'faccia', 'luna', 'clarendon', 'loves', 'mum', 'much', '!', 'Happy', 'Mothers', 'Day', 'wonderful', 'mothers', 'Slipped', 'caught', 'flu', 'feeling', 'like', 'poop', '!', 'urge', 'play', 'wow', 'wait', '2', 'weeks', 'til', 'im', 'dads', '!', '5+47DAYS', 'TIL', 'MCFLY', ',', 'im', 'excited', '(', 'L', ')', 'Ok', '...', 'passengers', '...', 'one', 'alive', '...', '`', 'dead', '...', '`', 'know', 'til', 'end', '...', 'cry', '...', 'Discovered', 'sharing', 'G', 'reader', '`', 'even', 'know', '.', 'Sigh', '....', '`', 'G', 'reader', 'newb', '.', 'chilled', 'tonite', ',', 'spew', 'venom', 'write', 'funny', '.', 'Seems', 'like', '2', 'styles', 'u', ',', 'please', 'pray', '4', '.', 'Lord', 'knows', 'need', '.', 'aaaaaw', 'want', 'live', 'USA', 'Morning', 'tweeple', 'Hey', ',', '`', 'get', '!', '!', '!', '2', 'hours', 'sleep', '...', '-', 'Rest', 'need', '.', 'makes', 'day', 'much', 'better', ',', '`', 'rough', 'one', '.', 'mention', 'love', 'new', 'photo', '!', '`', 'want', 'sit', 'home', 'prom', 'night', '.', 'Someone', 'hang', 'heading', 'home', 'foot', 'surgery', 'wishing', 'boyfriend', 'come', 'cuddle', 'concert', 'tonight', 'chackin', 'coming', 'tomorrow', '!', 'happened', '?', 'thought', 'coming', 'back', 'today', '....', 'lol', 'dammit', 'well', 'next', 'time', 'lol', '.', '`', 'ever', 'forget', 'Still', 'jealous', 'Forever', '21', 'Ethan', '`', 'IM', 'SAD', 'IM', 'GIVING', 'FIRST', '..', 'DIDNT', 'NOTHING', '!', '!', '!', '!', ':', '*', '*', '-', '(', 'week', 'mine', 'easy', '!', 'finally', '`', '!', '(', ':', 'Wow', 'beautiful', 'picture', '...', 'way', '....', 'straight', '....', 'wanted', 'let', 'know', '!', '!', '!', 'Bella', 'Arch', '.', 'Drawing', '.', 'Checking', 'MVCC', '`', 'CAD', 'degree', '.', 'Looks', 'good', \"'there\", 'people', 'pencils', \"'\", 'sharp', ',', 'sharpened', 'pencil', 'philosophy', '.....', 'go', 'home', '.', '`', 'usually', '`', 'mr.', 'positive', '`', 'one', 'daze', '.', 'well', ',', '15', 'mins', 'tomorrow', '!', 'always', 'lee', '.', 'Let', '`', 'go', 'Paris', 'know', 'want', 'come', 'keep', 'company', 'whilst', 'mum', '`', 'friends', 'night', '`', 'nice', 'evening', '!', 'cooking', 'dad', 'lots', 'fun', 'kitchen', 'together', 'Bouncing', 'Rush', 'makes', 'feel', 'nauseous', 'Woolsery', 'morning', '(', 'hopefully', ')', 'see', 'North', 'Molton', 'U16', 'clinch', 'North', 'Devon', 'League', 'title', '.', 'Lovely', 'day', 'playing', 'singstar', 'without', 'fave', 'duetter', '`', 'missing', ',', 'bb', '!', '`', 'cereal', 'nut', ',', 'think', 'like', 'every', 'kind', 'available', '.', '`', 'weird', '...', ':', '\\\\', 'Oh', ',', 'drawing', '?', 'woke', ':', 'mums', 'singing', 'new', 'gn', '`', 'r', 'cd', 'replacement', 'bought', 'im', 'good', 'daughter', 'birds', ',', ',', 'oh', 'man', '...', '`', 'cool', '&', '&', '`', 'sleep', 'yet', 'night', '!', '!', '!', '250', 'miles', ',', '1750', 'go', '.', 'Thats', 'ok', ',', 'u2', 'radio', 'alwas', 'helps', '.', 'Street', 'Fighter', 'IV', 'skills', 'lacking', ',', '`', 'beat', 'Seth', 'easy', '.', 'FIL', '461', 'cool', 'people', 'like', 'Good', 'Morning', '!', '!', '!', 'Work', '`', 'ESPN', '`', 'Sunday', 'night', 'Baseball', '.', 'hopefully', '`', 'get', 'rained', 'think', '`', 'honeymoon', 'good', 'life', '--', 'either', '`', 'honey', 'moon', 'joseph', 'arthur', '.', 'son', 'got', 'stung', 'bug', 'first', 'time', 'little', 'finger', 'slightly', 'swollen', '.', 'hours', 'ago', 'came', '....', '`', 'realised', 'went', 'buy', 'something', 'online', 'oh', 'referring', 'lil', 'exchange', 'LJ', 'regards', 'twitter', 'archive', 'postings', '.', 'Bumping', 'dj', 'opus', 'drunk', 'car', '.', 'lmao', '.', '`', 'act', 'like', 'u', '`', 'know', '.', 'kiss', 'feet', 'people', 'kick', 'anything', 'want', '?', 'morning', 'everyone', '!', 'Hope', 'best', 'day', 'ever', '`', 'brief', 'preview', ':', 'OMG', 'James', 'creepy', 'role', '!', '`', 'scared', '`', 'missing', 'crab', 'legs', 'attending', 'going', 'away', 'instead', '!', 'Hicks', 'mean', '!', 'gettn', 'ready', 'take', 'trip', 'Jersey', 'dad', '`', 'good', ',', 'needs', 'new', 'heart~whoeva', 'see', '`', 'please', 'say', 'prayer', 'dad', 'back', 'soon', ',', 'need', 'run', 'shops', 'cut', 'grass', '`', '.', 'plan', 'transform', 'bedroom', 'today', '.', 'Random', '.', 'Home', 'tomorrow', '.', 'running', 'spinning', '.', 'time', 'chiropractor', ',', 'laundry', ',', 'shopping', ',', 'visiting', 'family', '.', 'Missing', 'nathan', 'thats', 'another', 'sponsor', 'us', 'going', 'stuck', 'office', ',', 'without', 'windows', '`', 'sad', '.', 'make', 'proud', 'Sorry', ',', '`', 'try', 'keep', '.', 'home', 'alone', '..', 'hw', 'According', ',', 'quarter', 'families', 'six', 'live', 'poverty', '.', 'plan', 'spend', 'money', 'going', 'well', 'uploading', 'bamboozle', 'pictures', 'facebook', 'congratulations', '!', 'guys', 'finish', 'month', 'early', '.', 'booo', 'actually', ',', 'wish', 'back', 'Tahoe', '.', 'miss', '.']\n"
          ]
        }
      ]
    },
    {
      "cell_type": "markdown",
      "source": [
        "**Stemming**"
      ],
      "metadata": {
        "id": "zMKiAGZxhnvS"
      }
    },
    {
      "cell_type": "code",
      "source": [
        "from nltk.stem import PorterStemmer\n",
        "stemmer=PorterStemmer()\n",
        "stemmed_words=[stemmer.stem(word) for word in filtered_words]\n",
        "print(stemmed_words)"
      ],
      "metadata": {
        "colab": {
          "base_uri": "https://localhost:8080/"
        },
        "id": "VY_fBJ8lKQi3",
        "outputId": "78f128db-9e95-424d-bee0-a416423180dd"
      },
      "execution_count": null,
      "outputs": [
        {
          "output_type": "stream",
          "name": "stdout",
          "text": [
            "['great', 'day', '!', '!', '!', 'look', 'like', 'dream', '.', 'feel', 'sorri', ',', 'miss', 'sea', 'beach', \"n't\", 'angri', 'attend', 'class', 'listen', 'teacher', 'read', 'slide', '.', 'nonsenc', 'want', 'go', ',', 'let', 'go', 'night', '2', ',', 'feel', 'neutral', '2', 'feed', 'babi', 'fun', 'smile', 'coo', 'soooo', 'high', 'today', 'first', 'time', 'arriv', 'boat', '.', 'amaz', 'journey', 'love', 'someth', 'like', 'e=mc^2', 'rule', 'realli', 'realli', 'like', 'song', 'cardigan', 'taylor', 'swift', 'sharpi', 'run', 'danger', 'low', 'ink', 'want', 'go', 'music', 'tonight', 'lost', 'voic', '.', 'alway', 'somewher', 'miss', \"n't\", 'distrub', \"n't\", 'care', ',', '`', 'sick', 'past', 'day', \"'m\", 'come', 'back', 'home', ',', 'past', 'job', ',', 'realli', 'good', 'time', 'never', 'fall', 'love', 'found', 'oh', 'maya', ',', '`', 'sorri', '!', '!', 'hope', 'find', 'soon', '!', '!', 'play', 'kid', ',', 'amaz', 'clean', 'hous', 'famili', 'com', 'later', 'today', '..', 'tri', 'shtdown', 'pc', 'accenditenli', 'click', 'restart', 'button', '.', 'realli', 'disgust', 'follow', ',', 'follow', 'amaz', 'game', ',', 'play', 'everyday', '`', 'sorri', '.', \"'m\", 'villag', 'hardli', 'found', 'intern', ',', 'feel', 'gloomi', 'juss', 'came', 'back', 'baris', 'went', 'sleep', 'power', 'cut', 'villag', '.', 'look', 'like', 'compani', 'new', 'logo', '?', 'buy', 'sophi', \"'s\", 'world', 'book', ',', \"'m\", 'realli', 'happi', 'consol', 'got', 'bmi', 'test', 'hahaha', 'say', 'obes', 'well', 'much', 'unhappi', '10', 'minut', '.', '`', 'funni', '.', 'cute', 'kid', '.', 'ahhh', ',', 'slept', 'game', '.', '`', 'gon', 'na', 'tri', 'best', 'watch', 'tomorrow', 'though', '.', 'hope', 'play', 'armi', '.', 'semest', 'final', 'exam', 'complet', '.', 'hurray', '!', '!', '!', 'born', 'rais', 'nyc', 'live', 'texa', 'past', '10', 'year', '!', 'still', 'miss', 'ny', 'case', 'wonder', ',', 'realli', 'busi', 'today', 'come', 'ad', 'ton', 'new', 'blog', 'updat', 'stay', 'tune', '`', 'soooooo', 'sleeeeepi', '!', '!', '!', 'last', 'day', '`', 'school', 'today', '....', 'sniffl', '....', 'romanc', 'zero', 'funni', 'car', 'happi', ',', 'big', 'big', 'dent', 'boot', '!', 'hope', 'theyr', 'go', 'write', ',', 'cross', 'finger', 'wait', 'yor', 'unromant', 'mayday', '?', '!', '`', 'rather', 'earli', 'run', '..', 'morn', 'runner', 'love', '!', '`', 'avail', '5pm', '.', 'dear', '?', 'girl', 'hair', 'salon', 'ask', \"'shall\", 'trim', 'eyebrow', '!', \"'\", 'old', 'feel', '?', 'talk', 'im', 'soo', 'bore', ',', \"n't\", 'like', 'music', 'video', 'concert', 'amaz', 'nicotin', 'replac', 'patch', '4', 'hour', '.', 'far', ',', 'good', ',', 'sleep', '4', 'hour', '.', 'get', 'bit', 'twitchi', 'rain', ',', 'need', 'umbrella', 'sleep', '.', 'lost', 'voic', 'coupl', 'day', 'ago', '.', \"'m\", 'depress', ',', \"'m\", 'think', 'suicid', ',', 'need', '?', '`', 'heard', 'fall', '.', '`', 'wait', '!', 'saw', 'amaz', 'nightmar', 'yesterday', 'night', 'creeper', 'feel', 'disappoint', '.', 'bad', 'headech', ',', 'need', 'happi', 'mother', '`', 'day', 'mom', '.', 'mother', 'real', 'hero', 'grab', 'coffe', 'make', 'mom', 'breakfast', 'im', 'think', 'im', 'go', 'fun', 'tonight', 'yesterday', 'valuabl', 'day', 'haha', 'know', ',', 'cant', 'handl', 'fame', '!', 'thank', '!', 'one', 'suggest', ',', 'date', 'alway', 'love', 'everyon', ',', 'love', 'anim', '.', 'import', 'love', 'parent', \"'m\", 'play', 'minecraft', 'video', 'game', '.', \"'m\", 'addic', '.', 'see', 'cloud', 'great', 'day', '!', '!', '!', 'look', 'like', 'dream', '.', 'feel', 'sorri', ',', 'miss', 'sea', 'beach', \"n't\", 'angri', 'attend', 'class', 'listen', 'teacher', 'read', 'slide', '.', 'nonsenc', 'want', 'go', ',', 'let', 'go', 'night', '2', ',', 'feel', 'neutral', '2', 'feed', 'babi', 'fun', 'smile', 'coo', 'soooo', 'high', 'today', 'first', 'time', 'arriv', 'boat', '.', 'amaz', 'journey', 'love', 'someth', 'like', 'e=mc^2', 'rule', 'realli', 'realli', 'like', 'song', 'cardigan', 'taylor', 'swift', 'sharpi', 'run', 'danger', 'low', 'ink', 'want', 'go', 'music', 'tonight', 'lost', 'voic', '.', 'alway', 'somewher', 'miss', \"n't\", 'distrub', \"n't\", 'care', ',', '`', 'sick', 'past', 'day', \"'m\", 'come', 'back', 'home', ',', 'past', 'job', ',', 'realli', 'good', 'time', 'never', 'fall', 'love', 'found', 'oh', 'maya', ',', '`', 'sorri', '!', '!', 'hope', 'find', 'soon', '!', '!', 'play', 'kid', ',', 'amaz', 'clean', 'hous', 'famili', 'com', 'later', 'today', '..', 'tri', 'shtdown', 'pc', 'accenditenli', 'click', 'restart', 'button', '.', 'realli', 'disgust', 'follow', ',', 'follow', 'amaz', 'game', ',', 'play', 'everyday', '`', 'sorri', '.', \"'m\", 'villag', 'hardli', 'found', 'intern', ',', 'feel', 'gloomi', 'juss', 'came', 'back', 'baris', 'went', 'sleep', 'power', 'cut', 'villag', '.', 'look', 'like', 'compani', 'new', 'logo', '?', 'buy', 'sophi', \"'s\", 'world', 'book', ',', \"'m\", 'realli', 'happi', 'consol', 'got', 'bmi', 'test', 'hahaha', 'say', 'obes', 'well', 'much', 'unhappi', '10', 'minut', '.', '`', 'funni', '.', 'cute', 'kid', '.', 'ahhh', ',', 'slept', 'game', '.', '`', 'gon', 'na', 'tri', 'best', 'watch', 'tomorrow', 'though', '.', 'hope', 'play', 'armi', '.', 'semest', 'final', 'exam', 'complet', '.', 'hurray', '!', '!', '!', 'born', 'rais', 'nyc', 'live', 'texa', 'past', '10', 'year', '!', 'still', 'miss', 'ny', 'case', 'wonder', ',', 'realli', 'busi', 'today', 'come', 'ad', 'ton', 'new', 'blog', 'updat', 'stay', 'tune', '`', 'soooooo', 'sleeeeepi', '!', '!', '!', 'last', 'day', '`', 'school', 'today', '....', 'sniffl', '....', 'romanc', 'zero', 'funni', 'car', 'happi', ',', 'big', 'big', 'dent', 'boot', '!', 'hope', 'theyr', 'go', 'write', ',', 'cross', 'finger', 'wait', 'yor', 'unromant', 'mayday', '?', '!', '`', 'rather', 'earli', 'run', '..', 'morn', 'runner', 'love', '!', '`', 'avail', '5pm', '.', 'dear', '?', 'girl', 'hair', 'salon', 'ask', \"'shall\", 'trim', 'eyebrow', '!', \"'\", 'old', 'feel', '?', 'talk', 'grab', 'coffe', 'make', 'mom', 'breakfast', 'im', 'think', 'im', 'go', 'fun', 'tonight', '....', 'mayb', 'chang', 'come', 'thank', '.', 'major', 'chop', '.', 'haha', 'know', ',', 'cant', 'handl', 'fame', '!', 'thank', '!', 'got', 'updat', 'ipod', 'still', 'love', ',', 'love', 'let', 'go', ',', 'time', 'play', 'cricket', 'match', 'hey', 'everyon', ',', 'watch', 'cricket', 'match', 'eng', 'vs', 'au', 'yesterday', 'australia', 'cricket', 'team', 'love', 'mean', '`', 'go', 'come', 'back', 'vancouv', 'way', '!', 'hahah', 'feel', 'smooth', 'like', 'chrome', 'feel', 'gloomi', 'today', 'go', 'concert', 'need', 'coffe', '.', 'sound', 'like', 'bad', 'day', 'day', 'realiz', 'mess', '`', 'put', 'one', 'happiest', 'day', 'life', '...', 'walk', 'class', '.', 'hate', 'bike', '....', 'especi', 'mine', '.', \"'m\", 'start', 'learn', 'machin', 'learn', 'fail', 'inspect', '.', 'let', 'sing', 'song', 'happi', 'father', '`', 'day', 'father', 'world', '.', 'today', ',', 'semest', 'final', 'exam', 'realli', 'great', 'realli', 'great', 'day', 'except', 'short', 'dude', 'congratul', 'achiev', 'follow', 'us', 'recent', ',', 'pleas', 'dont', 'offend', '`', 'follow', 'back', '.', 'hit', 'limit', '.', 'ye', 'work', '9', '5', 'hmmm', ',', 'mayb', '`', 'meant', '.', 'done', 'spa', 'meet', 'vic', 'late', 'lunch', '!', 'happi', 'monday', 'go', 'tavar', 'today', '.', 'hope', 'everyon', 'bless', 'day', '!', 'alway', 'want', 'go', 'univers', 'thank', 'realli', 'great', 'footbal', 'match', '`', 'need', 'okay', '`', 'dedic', '300th', 'tweet', 'fact', '`', 'go', 'appl', 'store', 'huge', 'crack', 'glass', 'screen', '!', 'could', 'ever', 'actual', 'allow', 'stay', 'let', 'know', 'turn', '!', '!', 'sass', 'detect', '?', 'long', '`', 'back', 'sass', '!', 'haha', 'yeah', 'think', ',', 'ahaha', 'today', 'eee', 'day', '`', 'sleep', 'accept', 'appolog', \"'m\", 'studi', 'psycholog', 'live', 'pain', ',', 'bring', 'okay', ',', '`', 'back', 'later', '!', 'visit', 'world', 'longest', 'sea', 'beach', ',', 'realli', 'amaz', 'time', 'us', 'almost', 'die', '.', 'laptop', 'screen', 'set', '100', '%', 'bright', 'reinstal', 'window', 'vista', '.', 'wait', 'tish', 'get', '.', 'got', 'drive', 'mom', 'crv', 'pick', 'ducki', '.', 'first', 'time', 'attitud', 'look', 'like', 'autist', 'child', 'go', 'shower', '`', 'want', 'smell', 'school', 'tomorrow', 'know', 'sign', 'languag', 'sinc', 'demis', 'woolworth', '`', 'easi', 'find', 'reason', 'price', 'pick', 'n', 'mix', 'anywher', 'may', 'fourth', '!', 'happi', 'star', 'war', 'day', 'got', 'home', 'work', 'ye', '.', 'pleas', 'dont', '`', 'go', '.', 'die', 'cri', '..', 'normal', 'lead', 'small', 'anim', 'get', 'harm', 'write', 'report', 'card', 'soooo', 'tire', 'amaz', 'day', '.', 'check', 'fb', 'soon', '!', 'big', 'brother', 'good', 'news', ':', 'final', 'finish', 'bachelor', 'degre', 'well', 'good', 'morn', ',', 'wonder', 'day', 'neighborhood', 'thank', 'follow', 'anoth', '60', 'morn', 'yesterday', \"'m\", 'watch', 'movi', ',', '’', 'realli', 'motiv', 'hope', 'ok', '!', '`', 'school', 'done', 'alreadi', '?', 'hurt', 'much', '...', 'see', 'everi', 'day', 'wait', ',', 'listen', 'wind', 'blow', 'tumblewe', '?', 'none', 'old', 'enough', 'know', 'someon', 'say', \"'crackerack\", \"'\", '?', 'hell', 'yeah', '!', 'shirt', 'dinner', '?', 'need', 'ask', '?', '?', 'actual', 'vill', '?', 'know', '!', '!', 'smelli', '?', 'noooo', '.', 'love', 'alex', 'vixon', 'went', 'parti', 'last', 'night', '.', 'great', 'mind', 'think', 'alik', 'anyway', ',', 'happi', 'birthday', 'happi', 'birthday', '!', 'woke', 'side', 'earth', ',', 'wish', 'bit', 'late', 'thank', 'teach', 'valu', 'better', 'person', 'day', 'love', 'much', ',', '`', 'best', 'mum', 'world', 'happi', 'mother', 'day', '.', '!', 'laugh', '`', 'glad', 'self', 'confid', '-', '`', 'wonder', 'trait', '`', 'applaud', 'extra', 'loud', ',', 'okay', '?', 'thank', 'twitter', '2', 'day', '!', 'get', 'readi', 'week', 'nice', 'today', 'stuck', 'insid', 'work', '!', 'tre', 'depress', 'felt', 'like', '*', '*', '*', '*', ',', 'behav', 'like', 'son', ';', 'ate', 'compens', '.', 'pig', 'home-roast', 'sugar', 'almond', '.', 'pain', 'tum', ',', 'threw', ',', 'still', 'feel', 'sick', '.', 'happi', 'mother', 'day', 'peopl', '.', 'love', 'mom', 'lot', 'still', '`', 'sorri', 'hear', '.', '`', 'awesom', 'dude', ',', 'yay', 'surpris', 'celebr', '!', 'got', 'meet', 'year', 'ago', ',', 'soooo', 'friendli', '.', 'make', 'happi', 'hear', 'girl', 'talk', ',', 'tweet', ',', 'nba', '.', '...', 'could', 'give', 'nugget', 'love', '?', '!', 'get', 'hang', 'twitter', '.', 'know', 'neck', 'jack', 'forc', 'pay', 'park', 'bc', '`', 'turn', 'head', 'parallel', 'park', 'free', 'space', '...', 'want', 'back', '!', 'go', 'miss', 'roomi', '...', 'longer', 'roomi', 'start', 'tomorrow', 'bath', 'two', 'littl', 'angel', ',', 'keyla', 'janic', '.', 'yep', ',', 'finish', ',', 'chock', 'full', 'spell', 'grammat', 'error', ',', '`', 'clean', 'tomorrow', 'pop', 'hehe', 'hahahha', 'lol', 'true', '!', 'alway', 'rememb', 'bd', 'never', 'rememb', 'date', 'even', 'day', 'famili', ',', 'hang', 'watch', 'ellen', 'love', '!', '!', 'dish', 'tan', '...', '`', 'gorgeou', '!', '`', 'goin', 'hun', '?', '`', 'worri', 'im', 'bannish', '...', 'work', 'till', '6', 'morn', '!', 'get', 'see', ',', '`', 'let', 'know', '.', 'right', ',', '`', 'go', 'go', 'see', 'wolverin', '.', 'grab', 'coffe', 'make', 'mom', 'breakfast', 'im', 'think', 'im', 'go', 'fun', 'tonight', '....', 'mayb', 'chang', 'come', 'grab', 'coffe', 'make', 'mom', 'breakfast', 'im', 'think', 'im', 'go', 'fun', 'tonight', '....', 'mayb', 'chang', 'come', 'thank', '.', 'major', 'chop', '.', 'haha', 'know', ',', 'cant', 'handl', 'fame', '!', 'thank', '!', 'got', 'updat', 'ipod', 'ye', '!', 'sober', 'hahaha', 'tanghal', 'tapat', 'dude', '!', 'haha', 'wild', '.', '`', 'knowwww', 'plan', 'plan', 'go', 'us', '!', 'never', 'miss', 'icarli', '-', 'son', 'huge', 'crush', 'miranda', 'saw', 'jame', 'carvil', 'store', 'today', '.', 'head', 'realli', 'bald', 'love', 'blue', 'program', 'mean', '`', 'go', 'come', 'back', 'vancouv', 'way', '!', 'hahah', 'feel', 'smooth', 'like', 'chrome', 'error', 'red', 'life', 'look', 'like', 'blue', 'film', 'download', 'song', 'tri', 'sneak', 'lil', 'homework', ',', 'main', 'prioriti', 'song', 'lol', 'error', 'red', 'life', 'blue', ',', 'love', 'rose', 'lip', 'babi', 'sound', 'like', 'bad', 'day', 'day', 'realiz', 'mess', '`', 'put', 'one', 'happiest', 'day', 'life', '...', 'walk', 'class', '.', 'hate', 'bike', '....', 'especi', 'mine', '.', 'sound', 'good', 'fail', 'inspect', '.', 'know', 'pass', 'wo/oven', ',', 'wo/anti-tip', 'bracket', ',', 'sold', 'w/oven', '?', 'wors', 'tax', '.', 'jona', 'brother', '-', 'live', 'parti', '.', '`', 'rock', 'hard', 'love', 'song', ',', 'happi', 'mother', '`', 'day', 'mother', 'world', '.', \"'ve\", 'got', 'fever', ',', 'chcek', ',', 'good', 'song', ',', \"'m\", 'listen', 'song', 'everytim', 'fun', 'night', '!', 'listen', 'next', 'episod', 'turkey', 'drama', 'except', 'short', 'dude', ':', 'larenz', 'fineass', 'tate', 'yum', 'screw', 'review', ',', 'thought', 'wolverin', 'awesom', '.', 'enough', 'domin', 'monaghan', 'like', '.', 'follow', 'us', 'recent', ',', 'pleas', 'dont', 'offend', '`', 'follow', 'back', '.', 'hit', 'limit', '.', 'hope', 'free', 'soon', '.', 'ye', 'work', '6', '3', '...', 'hmmm', ',', 'mayb', '`', 'meant', '.', 'elud', 'someth', 'brand', 'new', 'know', 'media', 'done', 'spa', 'meet', 'vic', 'late', 'lunch', '!', 'happi', 'monday', 'go', 'tavar', 'today', '.', 'hope', 'everyon', 'bless', 'day', '!', 'alway', 'want', 'go', 'oz', 'thx', 'love', 'youtub', 'tutori', '`', 'need', '...', 'repres', 'blackberri', 'okay', '`', 'dedic', '300th', 'tweet', 'fact', '`', 'go', 'appl', 'store', 'huge', 'crack', 'glass', 'screen', '!', 'could', 'ever', 'actual', 'allow', 'stay', 'let', 'know', 'turn', '!', '!', 'sass', 'detect', '?', 'long', '`', 'back', 'sass', '!', 'haha', 'yeah', 'think', ',', 'ahaha', 'dont', 'know', 'whether', 'help', '.', 'googl', 'know', '`', 'sleep', 'accept', 'appolog', 'wolverin', 'boss', '!', 'serious', ',', 'will.i.am', ',', '*', '*', '*', '*', '?', '?', 'live', 'pain', ',', 'bring', 'okay', ',', '`', 'back', 'later', '!', '#', 'powerblog', 'powerblog', 'challeng', 'keep', 'talk', '?', '`', 'newbi', 'follow', 'almost', 'die', '.', 'laptop', 'screen', 'set', '100', '%', 'bright', 'reinstal', 'window', 'vista', '.', 'got', 'headach', '#', 'insanedefault', 'wait', 'tish', 'get', '.', 'got', 'drive', 'mom', 'crv', 'pick', 'ducki', '.', 'first', 'time', 'tri', 'decid', 'movi', 'friend', '..', 'go', 'well', '!', 'lol', ':', 'p', 'bibl', 'studi', '2nite', ',', 'mean', '*', '*', '*', '*', '-day', 'cake', 'buy', '?', '?', 'go', 'shower', '`', 'want', 'smell', 'school', 'tomorrow', 'sigh', '...', 'know', '...', 'discov', 'caus', 'bug', 'new', '4', 'build', '.', 'publish', 'bug', 'fix', ',', 'hope', 'new', 'beta', 'tomorrow', '4', 'free', 'notebook', 'know', 'machin', 'learn', 'well', 'got', 'home', 'work', '....', 'chug', 'big', 'bottl', 'appl', 'juic', '.', 'ye', '.', 'pleas', 'dont', '`', 'go', '.', 'die', 'cri', '..', 'normal', 'lead', 'small', 'anim', 'get', 'harm', 'write', 'report', 'card', 'soooo', 'tire', 'amaz', 'day', '.', 'check', 'fb', 'soon', '!', 'big', 'brother', '...', '`', 'done', 'good', 'news', ':', 'final', 'finish', 'workout', 'paus', '6', 'hour', '.', 'bad', 'news', ':', 'resist', 'band', 'torn', 'well', 'good', 'morn', ',', 'wonder', 'day', 'neighborhood', 'thank', 'follow', 'anoth', '60', 'morn', 'ftsk', 'merci', 'merced', 'amaz', 'tonight', '..', 'alway', 'hope', 'ok', '!', '`', 'school', 'done', 'alreadi', '?', 'hurt', 'much', '...', 'see', 'everi', 'day', 'wait', ',', 'listen', 'wind', 'blow', 'tumblewe', '?', 'none', 'old', 'enough', 'know', 'someon', 'say', \"'crackerack\", \"'\", '?', 'hell', 'yeah', '!', 'shirt', 'dinner', '?', 'need', 'ask', '?', '?', 'actual', 'vill', '?', 'know', '!', '!', 'huh', '*', '*', '*', '*', '?', 'smelli', '?', 'noooo', '.', 'love', 'alex', 'vixon', 'went', 'parti', 'last', 'night', '.', 'dindin', 'show', 'match', 'outfit', ')', 'great', 'mind', 'think', 'alik', ')', 'anyway', ',', 'happi', 'birthday', ',', 'ate', 'lara', 'happi', 'b-day', '!', 'woke', 'side', 'earth', ',', 'wish', 'bit', 'late', 'thank', 'teach', 'valu', 'better', 'person', 'day', 'love', 'much', ',', '`', 'best', 'mum', 'world', 'happi', 'mother', 'day', '.', '!', '*', 'laugh', '*', '`', 'glad', 'self', 'confid', '-', '`', 'wonder', 'trait', '`', 'applaud', 'extra', 'loud', ',', 'okay', '?', 'thank', 'twitter', '2', 'day', '!', 'get', 'readi', 'week', 'nice', 'today', 'stuck', 'insid', 'work', '!', 'tre', 'depress', 'felt', 'like', '*', '*', '*', '*', ',', 'behav', 'like', 'son', ';', 'ate', 'compens', '.', 'pig', 'home-roast', 'sugar', 'almond', '.', 'pain', 'tum', ',', 'threw', ',', 'still', 'feel', 'sick', '.', 'happi', 'mother', 'day', 'peopl', '.', 'love', 'mom', 'lot', 'still', '`', 'sorri', 'hear', '.', '`', 'awesom', 'dude', ',', 'yay', 'surpris', 'celebr', '!', 'got', 'meet', 'year', 'ago', ',', 'soooo', 'friendli', '.', 'make', 'happi', 'hear', 'girl', 'talk', ',', 'tweet', ',', 'nba', '.', '...', 'could', 'give', 'nugget', 'love', '?', '!', 'get', 'hang', 'twitter', '.', 'know', 'neck', 'jack', 'forc', 'pay', 'park', 'bc', '`', 'turn', 'head', 'parallel', 'park', 'free', 'space', '...', 'want', 'back', '!', 'go', 'miss', 'roomi', '...', 'longer', 'roomi', 'start', 'tomorrow', 'bath', 'two', 'littl', 'angel', ',', 'keyla', 'janic', '.', 'yep', ',', 'finish', ',', 'chock', 'full', 'spell', 'grammat', 'error', ',', '`', 'clean', 'tomorrow', 'pop', 'hehe', 'hahahha', 'lol', 'true', '!', 'alway', 'rememb', 'bd', 'never', 'rememb', 'date', 'even', 'day', 'famili', ',', 'hang', 'watch', 'ellen', 'love', '!', '!', 'dish', 'tan', '...', '`', 'gorgeou', '!', '`', 'goin', 'hun', '?', '`', 'worri', 'im', 'bannish', '...', 'work', 'till', '6', 'morn', '!', 'get', 'see', ',', '`', 'let', 'know', '.', 'right', ',', '`', 'go', 'go', 'see', 'wolverin', '.', 'red', 'top', 'tabloid', ',', 'build', 'em', ',', 'knock', 'em', 'tonight', 'parti', 'w/', 'girl', '(', 'minu', 'vita', ')', 'made', 'sad', 'thought', '`', 'jump', 'joy', 'simpl', 'pic', 'upload', 'babi', 'pic', 'cat', '.', 'missi', 'adult', 'pretti', 'littl', 'kitti', ',', 'batti', 'kitten', 'heaven', 'saw', 'play', ',', 'amaz', 'glad', 'break', 'twitter', 'virgin', 'two', '.', 'dinner', 'fam', '...', 'miss', 'live', '`', 'want', '.', 'better', '.', 'bound', 'bad', 'egg', 'though', ',', 'soon', 'learn', '.', 'hell', 'yeah', 'kellynn', 'got', 'twitter', '.', 'final', '.', 'know', 'worth', 'shot', ',', 'though', '!', 'open', 'facebook', 'account', ',', '`', 'littl', 'confus', '`', 'realli', 'get', '.', 'twitter', 'seem', 'much', 'better', 'ship', '.', '`', 'stuck', '.', 'dustbin', 'babi', '11.30', 'wait', 'x', 'go', 'dwell', '.', 'happen', ',', '`', 'pass', '.', 'shame', 'support', '!', 'life', '!', 'x', 'what', 'day', 'go', 'look', 'like', 'offic', 'tv', 'get', 'mlb', 'network', 'home', 'empti', 'hand', '.', 'comic', 'found', 'today', '.', 'shall', 'indulg', 'cupcak', 'magnolia', 'bakeri', '.', 'lay', 'bed', 'til', 'workkk', '...', 'oh', 'life', '.', 'definit', 'pinch', 'nerv', '.', 'today', 'busi', 'day', '.', 'exhaust', '!', 'go', 'go', 'sunday', ',', '`', 'got', 'much', 'go', 'weekend', 'sorri', 'hear', 'ur', 'flight', 'got', 'cancel', 'blow', '!', '!', '!', 'ohh', 'tooth', 'hurt', 'ohh', 'im', 'sad', 'hurt', 'get', 'distract', ',', '`', 'like', 'thank', 'new', 'follow', 'take', 'troubl', 'follow', '!', 'other', ':', 'feelin', 'love', 'u', 'think', 'u', 'bill', 'ha', '!', 'ii', 'finish', 'pay', 'mine', '`', '`', 'broke', 'sure', '`', 'say', '2', 'big', '.', 'jst', 'saw', 'pic', 'u', 'ur', 'last', 'bday', '.', 'look', 'pretti', '!', '!', 'miss', '!', '!', 'sore', 'throat', '.', 'plan', 'tet', 'outing', 'marwel', 'though', '...', 'good', 'time', 'mcfli', 'gig', 'last', 'nightt', 'omg', 'amazin', 'didnt', 'sit', 'whole', 'thing', 'mcfli', 'see', 'best', 'mate', 'tutu', '2', 'day', 'without', 'sleep', 'migrain', '.', 'thought', 'life', 'postr01', 'meant', 'relax', '!', '?', 'suck', '!', '?', '..', 'when', 'sway', 'sway', 'winner', 'announc', '?', 'k', 'check', '...', 'pretti', 'well', ',', 'wide', 'awak', 'want', 'wake', 'earli', ',', 'get', 'coffe', 'tomorrow', '(', 'today', ')', '!', '`', 'go', 'busyy', 'day', '!', 'keep', 'write', '..', 'booo', 'whoo', '!', 'miss', 'daddi', 'mommi', 'dog', 'offici', 'depress', 'brother', '`', 'dog', 'gone', '.', '`', 'want', 'go', 'outsid', ',', 'play', 'half-heartedli', '.', 'realiz', '`', 'forward', 'text', 'msg', 'iphon', '.', 'frist', 'post', '...', 'find', 'new', 'car', 'parent', ',', 'excit', '!', 'argh', 'noo', '!', 'miss', 'killer', 'wossi', '!', 'suck', '!', 'miss', 'brandon', '.', 'total', 'failur', '!', 'anyon', 'know', '`', 'repeat', '?', 'must', 'investig', '!', 'serious', 'bore', 'without', 'anyon', 'talk', '...', 'tire', 'enough', 'sleep', 'lost', '.', 'pleas', 'help', 'find', 'good', 'home', '.', '`', 'peter', '&', 'gordon', 'morn', '-', '>', ',', 'go', 'piec', 'wan', 'na', 'hide', '/', 'go', 'piec', 'almost', 'die', '/', 'ever', '...', '?', 'http', ':', '//blip.fm/~5yk38', 'ok', '`', 'got', 'bit', 'bad', 'back', 'lift', 'drum', 'hardwar', 'car', 'downer', '.', 'lmao', '...', 'smh', '!', 'one', 'threw', '.', 'oh', 'nice', 'go', '!', 'get', 'readi', 'work', '...', 'work', 'weekend', 'gon', 'na', 'celebr', 'mother', 'day', 'famili', 'gon', 'na', 'start', 'parti', 'tonit', 'agre', '!', 'comput', '.', 'hopeless', 'everyth', 'els', '90', 'degre', ',', 'gross', 'sky', ',', 'thunderstorm', '...', 'perfect', 'match', 'mood', 'lol', '_2nd', 'aww', 'thank', '!', 'sorri', 'rb', 'ps3', 'saw', 'amaz', 'heeel', '.', 'big', 'stuck', 'finger', 'throat', 'bunch', 'bump', 'tongu', '&', 'throat', '.', 'dang', 'last', 'url', 'went', '?', 'http', ':', '//blip.fm/~7aigm', 'ohoh', 'miss', 'ur', 'tweet', 'im', 'gon', 'na', 'stay', 'awak', 'night', 'see', 'announc', ',', '*', '*', '*', '*', 'time', 'differ', 'damnit', '.', 'suck', '.', 'one', 'one', 'thought', '`', 'drag', 'back', 'lol', 'boss', '.', '`', 'move', 'nyc', 'sooo', 'crazi', 'fever', '..', 'spend', 'saturday', 'morn', 'take', 'note', 'research', 'essay', 'stupid', '*', '*', '*', '*', 'recal', 'book', '`', 'use', '.', 'fair', 'think', 'need', 'new', 'friend', 'look', 'forward', 'gig', 'ireland', '!', '!', '!', 'see', 'ya', '!', \"'\", 'watch', 'movi', 'name', 'adimuri', 'aww', 'loooov', 'hungri', ',', 'twitter', '.', 'want', 'food', '.', 'awesom', 'lucki', 'yea', ',', 'know', '..', 'tell', 'everyth', '!', 'ps', ':', 'send', 'direct', 'messag', 'tell', '..', 'haha', 'haha', 'im', 'jewish', ',', 'love', 'one', 'great', 'time', 'beer', 'garden', 'wit', 'boyo', '!', '!', 'think', 'sun', 'got', 'bit', 'though', ',', 'feel', 'bit', 'ill', '!', '!', 'l', '`', '3', 'day', 'matt', '.', 'fun', 'weekend', '.', 'u', 'realli', '`', 'think', '?', 'mayb', 'ur', 'right', '....', 'lol', '.', 'btw', 'phone', 'u', 'use', '?', 'think', 'u', 'told', 'b4', '...', 'might', 'app', 'u', 'feel', 'pain', '.', 'mine', 'way', 'come', 'home', 'two', 'day', 'sadli', '.', '`', 'come', 'one', '...', 'cant', 'wait', 'see', 'boy', 'tomorrow', 'ehhh', '.', 'check', '.', 'dentist', 'app', 'next', 'week', 'though', '.', 'get', 'molar', 'pulled/root', 'canal', '.', 'aww', 'miss', 'drive', 'elmwood', 'omg', 'wango', 'tango', '*', '*', '*', '*', 'awsom', '!', 'love', 'babi', 'take', 'version', '2', 'live', ',', 'interact', 'trans-siberian', 'ticket', 'planner', 'launch', '_30439', 'realli', 'wish', 'could', 'go', '!', 'yeah', 'real', 'hard', ',', 'know', '`', 'get', '...', 'smile', '`', '25', 'decemb', '`', 'good', 'next', 'big', 'birthday', '30', '21', 'fli', 'sure', 'made', 'night', '!', '!', 'way', 'funni', '!', '!', 'woo', 'cav', '.', 'happi', 'mother', '`', 'day', '!', 'make', 'face', 'get', 'home', 'mom', 'watch', 'soap', '.', 'go', 'work', '.', '`', 'believ', 'went', 'got', 'boba', 'without', '.', ',', 'today', '?', 'thank', 'warm', 'welcom', '!', '`', 'make', 'plan', 'arriv', 'time', 'air', '.', '19', 'day', 'count', 'sorri', 'friend', '-', '`', 'swamp', 'deadlin', 'right', 'famili', 'visit', 'boot', '!', 'charad', '.', 'brainfreez', 'discov', 'shortcom', 'graviti', '.', 'use', 'twitpic', '(', 'integr', ')', '`', 'subtract', 'pic', 'url', '140', 'charact', 'limit', 'sunburn', 'peel', ',', 'perki', 'purpl', 'nail', 'polish', '`', 'perki', 'chip', 'http', ':', '//twitpic.com/4sx96', '-', 'put', 'camera', 'smoker', 'pit', '.', 'longer', 'vandal', 'door', ',', 'without', 'caught', '.', 'lay', 'alon', '!', '!', 'sinc', 'mook', '`', 'soo', 'comfi', 'f', '`', 'n', 'play', 'pen', '.', 'thought', 'ill', 'first', '`', 'one', 'cuddl', '...', 'hate', 'dentist', 'noth', 'aim', ',', 'join', '...', 'sorri', '`', 'take', 'twitter', 'break', '.', 'cell', 'die', 'qood', 'morninq', 'write', 'english', 'origin', 'write', 'storyyyyi', '.', 'listen', '`', 'littl', 'respect', '`', 'erasur', 'aaaaaah', '.', 'need', 'follow', 'wish', 'could', 'get', 'nail', 'done', 'stupid', 'job', 'littl', 'wormi', 'labyrinth', 'sadli', 'pass', 'away', 'today', 'ok', 'he', 'still', 'around', 'happi', 'ghost', 'form', 'aww', 'http', ':', '//twitpic.com/67aim', \"'no\", 'pant', \"'\", 'idea', 'could', 'new', 'attempt', 'world-wid', 'attract', 'busi', 'back', 'airlin', '.', 'good', 'one', 'yep', 'infact', 'popular', ',', 'miss', 'india', '99', ',', 'talent', 'film', 'actress', '....', 'lot', 'dosen', '`', 'want', 'go', 'work', 'tomorrow', 'daniel', 'dsd', '.', 'voic', 'great', '.', 'need', 'blood', 'neg', 'hope', 'go', 'red', 'lobster', 'weekend', '_x_atl', 'u', 'mean', 'jack', 'barakat', '`', '?', '!', 'wow', 'u', 'ever', 'gone', 'hous', '?', 'hehe', 'mean', 'ur', 'ssoo', 'lucki', 'address', '!', 'sure', 'hope', 'becom', '4:20', 'afternoon', '...', 'mean', 'famou', '.', 'congrat', '!', 'phone', 'pass', 'away', 'yesterday', '..', 'jump', 'tabl', 'search', 'new', 'phone', '...', 'fantast', 'friend', ',', 'includ', 'sever', 'one', 'met', '!', 'thank', 'life', '-', 'amaz', 'peopl', '!', 'tamlyn', 'wish', 'cool', 'sock', 'draw', 'rice', 'crusti', 'bread', 'chili', '....', 'aawww', 'like', 'mind', 'even', ',', 'dear', '!', 'come', 'save', 'pack', 'pleas', '?', '!', 'ye', ',', 'love', 'tea', '.', 'make', 'typic', 'english', 'mouth', 'sure', '_dec0d', 'final', '1', 'hour', 'histori', '...', '3.00', 'pm', '!', 'went', 'highschool', '8.00', 'make', 'homework', 'friend', 'pancak', '!', '!', 'lemon', 'sugar', 'thank', '!', 'si', ',', 'bueno', 'guess', '`', 'entertain', '`', 'hunrgi', 'right', 'heel', 'kill', 'hardli', 'walk', 'electron', 'key', 'stop', 'work', '.', 'keyhol', '!', 'cant', 'get', 'car', '.', 'much', 'technolog', 'yay', ',', 'three', 'follow', '!', 'good', 'know', 'one', 'person', 'big', 'wide', 'world', 'like', 'fishi', '.', \"'mi\", 'name', 'toni', '!', '!', '!', '!', '!', '!', '...', 'hey', '!', '!', '!', '!', \"'\", '-', 'poor', 'toni', 'goodmorn', 'took', 'shift', 'tomorrow', '.', '`', 'realli', 'feel', 'like', 'work', 'right', '.', 'love', 'mine', ',', '.', 'happi', 'motherã¯â¿â½', 'day', 'mom', ',', 'john', 'taylor', '.', 'much', 'love', ',', '.', 'saw', 'black', 'snake', 'garden', '.', 'went', 'back', 'pictur', 'gone', 'http', ':', '//twitpic.com/4wukt', '-', 'bought', 'ludi', 'rug', '.', 'dog', 'best', 'waterfront', 'anymor', 'faccia', 'luna', 'clarendon', 'love', 'mum', 'much', '!', 'happi', 'mother', 'day', 'wonder', 'mother', 'slip', 'caught', 'flu', 'feel', 'like', 'poop', '!', 'urg', 'play', 'wow', 'wait', '2', 'week', 'til', 'im', 'dad', '!', '5+47day', 'til', 'mcfli', ',', 'im', 'excit', '(', 'l', ')', 'ok', '...', 'passeng', '...', 'one', 'aliv', '...', '`', 'dead', '...', '`', 'know', 'til', 'end', '...', 'cri', '...', 'discov', 'share', 'g', 'reader', '`', 'even', 'know', '.', 'sigh', '....', '`', 'g', 'reader', 'newb', '.', 'chill', 'tonit', ',', 'spew', 'venom', 'write', 'funni', '.', 'seem', 'like', '2', 'style', 'u', ',', 'pleas', 'pray', '4', '.', 'lord', 'know', 'need', '.', 'aaaaaw', 'want', 'live', 'usa', 'morn', 'tweepl', 'hey', ',', '`', 'get', '!', '!', '!', '2', 'hour', 'sleep', '...', '-', 'rest', 'need', '.', 'make', 'day', 'much', 'better', ',', '`', 'rough', 'one', '.', 'mention', 'love', 'new', 'photo', '!', '`', 'want', 'sit', 'home', 'prom', 'night', '.', 'someon', 'hang', 'head', 'home', 'foot', 'surgeri', 'wish', 'boyfriend', 'come', 'cuddl', 'concert', 'tonight', 'chackin', 'come', 'tomorrow', '!', 'happen', '?', 'thought', 'come', 'back', 'today', '....', 'lol', 'dammit', 'well', 'next', 'time', 'lol', '.', '`', 'ever', 'forget', 'still', 'jealou', 'forev', '21', 'ethan', '`', 'im', 'sad', 'im', 'give', 'first', '..', 'didnt', 'noth', '!', '!', '!', '!', ':', '*', '*', '-', '(', 'week', 'mine', 'easi', '!', 'final', '`', '!', '(', ':', 'wow', 'beauti', 'pictur', '...', 'way', '....', 'straight', '....', 'want', 'let', 'know', '!', '!', '!', 'bella', 'arch', '.', 'draw', '.', 'check', 'mvcc', '`', 'cad', 'degre', '.', 'look', 'good', \"'there\", 'peopl', 'pencil', \"'\", 'sharp', ',', 'sharpen', 'pencil', 'philosophi', '.....', 'go', 'home', '.', '`', 'usual', '`', 'mr.', 'posit', '`', 'one', 'daze', '.', 'well', ',', '15', 'min', 'tomorrow', '!', 'alway', 'lee', '.', 'let', '`', 'go', 'pari', 'know', 'want', 'come', 'keep', 'compani', 'whilst', 'mum', '`', 'friend', 'night', '`', 'nice', 'even', '!', 'cook', 'dad', 'lot', 'fun', 'kitchen', 'togeth', 'bounc', 'rush', 'make', 'feel', 'nauseou', 'woolseri', 'morn', '(', 'hope', ')', 'see', 'north', 'molton', 'u16', 'clinch', 'north', 'devon', 'leagu', 'titl', '.', 'love', 'day', 'play', 'singstar', 'without', 'fave', 'duetter', '`', 'miss', ',', 'bb', '!', '`', 'cereal', 'nut', ',', 'think', 'like', 'everi', 'kind', 'avail', '.', '`', 'weird', '...', ':', '\\\\', 'oh', ',', 'draw', '?', 'woke', ':', 'mum', 'sing', 'new', 'gn', '`', 'r', 'cd', 'replac', 'bought', 'im', 'good', 'daughter', 'bird', ',', ',', 'oh', 'man', '...', '`', 'cool', '&', '&', '`', 'sleep', 'yet', 'night', '!', '!', '!', '250', 'mile', ',', '1750', 'go', '.', 'that', 'ok', ',', 'u2', 'radio', 'alwa', 'help', '.', 'street', 'fighter', 'iv', 'skill', 'lack', ',', '`', 'beat', 'seth', 'easi', '.', 'fil', '461', 'cool', 'peopl', 'like', 'good', 'morn', '!', '!', '!', 'work', '`', 'espn', '`', 'sunday', 'night', 'basebal', '.', 'hope', '`', 'get', 'rain', 'think', '`', 'honeymoon', 'good', 'life', '--', 'either', '`', 'honey', 'moon', 'joseph', 'arthur', '.', 'son', 'got', 'stung', 'bug', 'first', 'time', 'littl', 'finger', 'slightli', 'swollen', '.', 'hour', 'ago', 'came', '....', '`', 'realis', 'went', 'buy', 'someth', 'onlin', 'oh', 'refer', 'lil', 'exchang', 'lj', 'regard', 'twitter', 'archiv', 'post', '.', 'bump', 'dj', 'opu', 'drunk', 'car', '.', 'lmao', '.', '`', 'act', 'like', 'u', '`', 'know', '.', 'kiss', 'feet', 'peopl', 'kick', 'anyth', 'want', '?', 'morn', 'everyon', '!', 'hope', 'best', 'day', 'ever', '`', 'brief', 'preview', ':', 'omg', 'jame', 'creepi', 'role', '!', '`', 'scare', '`', 'miss', 'crab', 'leg', 'attend', 'go', 'away', 'instead', '!', 'hick', 'mean', '!', 'gettn', 'readi', 'take', 'trip', 'jersey', 'dad', '`', 'good', ',', 'need', 'new', 'heart~whoeva', 'see', '`', 'pleas', 'say', 'prayer', 'dad', 'back', 'soon', ',', 'need', 'run', 'shop', 'cut', 'grass', '`', '.', 'plan', 'transform', 'bedroom', 'today', '.', 'random', '.', 'home', 'tomorrow', '.', 'run', 'spin', '.', 'time', 'chiropractor', ',', 'laundri', ',', 'shop', ',', 'visit', 'famili', '.', 'miss', 'nathan', 'that', 'anoth', 'sponsor', 'us', 'go', 'stuck', 'offic', ',', 'without', 'window', '`', 'sad', '.', 'make', 'proud', 'sorri', ',', '`', 'tri', 'keep', '.', 'home', 'alon', '..', 'hw', 'accord', ',', 'quarter', 'famili', 'six', 'live', 'poverti', '.', 'plan', 'spend', 'money', 'go', 'well', 'upload', 'bamboozl', 'pictur', 'facebook', 'congratul', '!', 'guy', 'finish', 'month', 'earli', '.', 'booo', 'actual', ',', 'wish', 'back', 'taho', '.', 'miss', '.']\n"
          ]
        }
      ]
    },
    {
      "cell_type": "markdown",
      "source": [
        "**Speech Taging**"
      ],
      "metadata": {
        "id": "PSUJO0zQh6XA"
      }
    },
    {
      "cell_type": "code",
      "source": [
        "from nltk.tokenize import word_tokenize\n",
        "from nltk.tag import pos_tag\n",
        "nltk.download('averaged_perceptron_tagger_eng')\n",
        "\n",
        "def pos_tagging(words):\n",
        "    if pd.isna(words):  # Handle missing values\n",
        "        return None\n",
        "    tokens = word_tokenize(words)  # Tokenize the text\n",
        "    return pos_tag(tokens)\n",
        "\n",
        "\n",
        "df['pos_tags'] = df['text'].apply(pos_tagging)\n",
        "print(df['pos_tags'])"
      ],
      "metadata": {
        "id": "2U8bn2aJeQoA",
        "colab": {
          "base_uri": "https://localhost:8080/"
        },
        "outputId": "53b62534-fc18-426e-ac09-8f17211add24"
      },
      "execution_count": null,
      "outputs": [
        {
          "output_type": "stream",
          "name": "stderr",
          "text": [
            "[nltk_data] Downloading package averaged_perceptron_tagger_eng to\n",
            "[nltk_data]     /root/nltk_data...\n",
            "[nltk_data]   Unzipping taggers/averaged_perceptron_tagger_eng.zip.\n"
          ]
        },
        {
          "output_type": "stream",
          "name": "stdout",
          "text": [
            "0      [(What, WP), (a, DT), (great, JJ), (day, NN), ...\n",
            "1      [(I, PRP), (feel, VBP), (sorry, JJ), (,, ,), (...\n",
            "2         [(Do, VBP), (n't, RB), (angry, VB), (me, PRP)]\n",
            "3      [(We, PRP), (attend, VBP), (in, IN), (the, DT)...\n",
            "4      [(Those, DT), (who, WP), (want, VBP), (to, TO)...\n",
            "                             ...                        \n",
            "494    [(According, VBG), (to, TO), (,, ,), (a, DT), ...\n",
            "495    [(the, DT), (plan, NN), (to, TO), (not, RB), (...\n",
            "496    [(uploading, VBG), (all, DT), (my, PRP$), (bam...\n",
            "497    [(congratulations, NNS), (!, .), (you, PRP), (...\n",
            "498    [(actually, RB), (,, ,), (I, PRP), (wish, VBP)...\n",
            "Name: pos_tags, Length: 499, dtype: object\n"
          ]
        }
      ]
    },
    {
      "cell_type": "markdown",
      "source": [
        "**Named Entity Recognition**"
      ],
      "metadata": {
        "id": "9pB3_sFK23dN"
      }
    },
    {
      "cell_type": "code",
      "source": [
        "from nltk import ne_chunk\n",
        "nltk.download('maxent_ne_chunker')\n",
        "nltk.download('maxent_ne_chunker_tab')\n",
        "nltk.download('words')\n",
        "def named_entity_recognition(words):\n",
        "    if pd.isna(words):  # Handle missing values\n",
        "        return None\n",
        "    tokens = word_tokenize(words)  # Tokenize the text\n",
        "    pos_tags = pos_tag(tokens)  # Perform POS tagging\n",
        "    return ne_chunk(pos_tags)  # Perform NER using ne_chunk\n",
        "\n",
        "df['named_entities'] = df['text'].apply(named_entity_recognition)\n",
        "print(df['named_entities'])\n",
        "\n"
      ],
      "metadata": {
        "colab": {
          "base_uri": "https://localhost:8080/"
        },
        "id": "k4bB_w0_0aXm",
        "outputId": "d993d0d4-d8f8-48d6-b779-602f419d9453"
      },
      "execution_count": null,
      "outputs": [
        {
          "output_type": "stream",
          "name": "stderr",
          "text": [
            "[nltk_data] Downloading package maxent_ne_chunker to\n",
            "[nltk_data]     /root/nltk_data...\n",
            "[nltk_data]   Unzipping chunkers/maxent_ne_chunker.zip.\n",
            "[nltk_data] Downloading package maxent_ne_chunker_tab to\n",
            "[nltk_data]     /root/nltk_data...\n",
            "[nltk_data]   Unzipping chunkers/maxent_ne_chunker_tab.zip.\n",
            "[nltk_data] Downloading package words to /root/nltk_data...\n",
            "[nltk_data]   Unzipping corpora/words.zip.\n"
          ]
        },
        {
          "output_type": "stream",
          "name": "stdout",
          "text": [
            "0      [(What, WP), (a, DT), (great, JJ), (day, NN), ...\n",
            "1      [(I, PRP), (feel, VBP), (sorry, JJ), (,, ,), (...\n",
            "2         [(Do, VBP), (n't, RB), (angry, VB), (me, PRP)]\n",
            "3      [(We, PRP), (attend, VBP), (in, IN), (the, DT)...\n",
            "4      [(Those, DT), (who, WP), (want, VBP), (to, TO)...\n",
            "                             ...                        \n",
            "494    [(According, VBG), (to, TO), (,, ,), (a, DT), ...\n",
            "495    [(the, DT), (plan, NN), (to, TO), (not, RB), (...\n",
            "496    [(uploading, VBG), (all, DT), (my, PRP$), (bam...\n",
            "497    [(congratulations, NNS), (!, .), (you, PRP), (...\n",
            "498    [(actually, RB), (,, ,), (I, PRP), (wish, VBP)...\n",
            "Name: named_entities, Length: 499, dtype: object\n"
          ]
        }
      ]
    },
    {
      "cell_type": "markdown",
      "source": [
        "**Lemmatization**"
      ],
      "metadata": {
        "id": "y9NlYsq63AGQ"
      }
    },
    {
      "cell_type": "code",
      "source": [
        "import nltk\n",
        "nltk.download('wordnet')\n",
        "from nltk.stem import WordNetLemmatizer\n",
        "lemmatizer=WordNetLemmatizer()\n",
        "print(lemmatizer.lemmatize(\"cats\"))\n",
        "print(lemmatizer.lemmatize(\"better\",pos='a'))"
      ],
      "metadata": {
        "id": "5xtjscmv3GVQ",
        "colab": {
          "base_uri": "https://localhost:8080/"
        },
        "outputId": "20bec3ea-ae0a-4895-9fd8-a26706fe186b"
      },
      "execution_count": null,
      "outputs": [
        {
          "output_type": "stream",
          "name": "stdout",
          "text": [
            "cat\n",
            "good\n"
          ]
        },
        {
          "output_type": "stream",
          "name": "stderr",
          "text": [
            "[nltk_data] Downloading package wordnet to /root/nltk_data...\n",
            "[nltk_data]   Package wordnet is already up-to-date!\n"
          ]
        }
      ]
    },
    {
      "cell_type": "markdown",
      "source": [
        "**Corpora**"
      ],
      "metadata": {
        "id": "jkmvMXHNrpjR"
      }
    },
    {
      "cell_type": "code",
      "source": [
        "nltk.corpus"
      ],
      "metadata": {
        "colab": {
          "base_uri": "https://localhost:8080/"
        },
        "id": "JA0ZXXgjqndk",
        "outputId": "15b3639c-c41a-4ccb-ed76-d8a3875a91bd"
      },
      "execution_count": 3,
      "outputs": [
        {
          "output_type": "execute_result",
          "data": {
            "text/plain": [
              "<LazyModule 'nltk.corpus'>"
            ]
          },
          "metadata": {},
          "execution_count": 3
        }
      ]
    },
    {
      "cell_type": "code",
      "source": [
        "nltk.download('brown')\n",
        "from nltk.corpus import brown\n",
        "print(brown.categories())  # List of categories\n",
        "print(brown.words(categories='news')[:50])  # First 50 words from the 'news' category\n"
      ],
      "metadata": {
        "colab": {
          "base_uri": "https://localhost:8080/"
        },
        "id": "31MMy8E5r4z0",
        "outputId": "9d5c9d3b-19cd-4259-c040-d4615e5199ce"
      },
      "execution_count": 4,
      "outputs": [
        {
          "output_type": "stream",
          "name": "stderr",
          "text": [
            "[nltk_data] Downloading package brown to /root/nltk_data...\n",
            "[nltk_data]   Unzipping corpora/brown.zip.\n"
          ]
        },
        {
          "output_type": "stream",
          "name": "stdout",
          "text": [
            "['adventure', 'belles_lettres', 'editorial', 'fiction', 'government', 'hobbies', 'humor', 'learned', 'lore', 'mystery', 'news', 'religion', 'reviews', 'romance', 'science_fiction']\n",
            "['The', 'Fulton', 'County', 'Grand', 'Jury', 'said', 'Friday', 'an', 'investigation', 'of', \"Atlanta's\", 'recent', 'primary', 'election', 'produced', '``', 'no', 'evidence', \"''\", 'that', 'any', 'irregularities', 'took', 'place', '.', 'The', 'jury', 'further', 'said', 'in', 'term-end', 'presentments', 'that', 'the', 'City', 'Executive', 'Committee', ',', 'which', 'had', 'over-all', 'charge', 'of', 'the', 'election', ',', '``', 'deserves', 'the', 'praise']\n"
          ]
        }
      ]
    },
    {
      "cell_type": "markdown",
      "source": [
        "**WordNet**"
      ],
      "metadata": {
        "id": "8LGYuaRnumGI"
      }
    },
    {
      "cell_type": "code",
      "source": [
        "from nltk.corpus import wordnet\n",
        "synsets=wordnet.synsets('program')\n",
        "print(synsets)\n",
        "syn=wordnet.synsets('narrow')\n",
        "print(syn)"
      ],
      "metadata": {
        "colab": {
          "base_uri": "https://localhost:8080/"
        },
        "id": "yAXsTKFdu-5L",
        "outputId": "adbaa28f-0d5a-477e-914c-5f710ad45301"
      },
      "execution_count": null,
      "outputs": [
        {
          "output_type": "stream",
          "name": "stdout",
          "text": [
            "[Synset('plan.n.01'), Synset('program.n.02'), Synset('broadcast.n.02'), Synset('platform.n.02'), Synset('program.n.05'), Synset('course_of_study.n.01'), Synset('program.n.07'), Synset('program.n.08'), Synset('program.v.01'), Synset('program.v.02')]\n",
            "[Synset('narrow.n.01'), Synset('narrow.v.01'), Synset('pin_down.v.01'), Synset('specialize.v.01'), Synset('constrict.v.02'), Synset('narrow.a.01'), Synset('narrow.s.02'), Synset('narrow-minded.a.02'), Synset('narrow.a.04'), Synset('minute.s.02')]\n"
          ]
        }
      ]
    },
    {
      "cell_type": "markdown",
      "source": [],
      "metadata": {
        "id": "VV-esP_Zp6EP"
      }
    },
    {
      "cell_type": "code",
      "source": [
        "print(synsets[0].name())\n",
        "print(synsets[0].lemmas())\n",
        "print(synsets[0].definition())\n",
        "print(synsets[0].examples())\n"
      ],
      "metadata": {
        "colab": {
          "base_uri": "https://localhost:8080/"
        },
        "id": "ZR1Od3vlw5cC",
        "outputId": "b2eb3468-157d-4aae-a74b-6c35c8015be2"
      },
      "execution_count": null,
      "outputs": [
        {
          "output_type": "stream",
          "name": "stdout",
          "text": [
            "plan.n.01\n",
            "[Lemma('plan.n.01.plan'), Lemma('plan.n.01.program'), Lemma('plan.n.01.programme')]\n",
            "a series of steps to be carried out or goals to be accomplished\n",
            "['they drew up a six-step plan', 'they discussed plans for a new bond issue']\n"
          ]
        }
      ]
    },
    {
      "cell_type": "code",
      "source": [
        "synonyms=[]\n",
        "antonyms=[]\n",
        "\n",
        "for syn in wordnet.synsets('good'):\n",
        "  for l in syn.lemmas():\n",
        "    synonyms.append(l.name())\n",
        "    if l.antonyms():\n",
        "      antonyms.append(l.antonyms()[0].name())\n",
        "print(set(synonyms))\n",
        "print(set(antonyms))"
      ],
      "metadata": {
        "colab": {
          "base_uri": "https://localhost:8080/"
        },
        "id": "OEmzsmzbyGXi",
        "outputId": "a999bd8f-2845-4c88-ccc2-c902bc577eeb"
      },
      "execution_count": null,
      "outputs": [
        {
          "output_type": "stream",
          "name": "stdout",
          "text": [
            "{'dependable', 'in_force', 'honest', 'unspoilt', 'estimable', 'expert', 'beneficial', 'in_effect', 'goodness', 'undecomposed', 'ripe', 'respectable', 'good', 'practiced', 'safe', 'unspoiled', 'near', 'trade_good', 'serious', 'thoroughly', 'effective', 'adept', 'dear', 'salutary', 'just', 'full', 'soundly', 'skilful', 'honorable', 'well', 'proficient', 'skillful', 'sound', 'commodity', 'upright', 'right', 'secure'}\n",
            "{'evil', 'ill', 'badness', 'bad', 'evilness'}\n"
          ]
        }
      ]
    },
    {
      "cell_type": "code",
      "source": [
        "#word similarity\n",
        "w1=wordnet.synset(\"ship.n.01\")\n",
        "w2=wordnet.synset(\"boat.n.01\")\n",
        "print(w1.wup_similarity(w2))"
      ],
      "metadata": {
        "colab": {
          "base_uri": "https://localhost:8080/"
        },
        "id": "yxEs8BjzzQci",
        "outputId": "b741c8d1-664e-4ba2-81d9-0faca491eab0"
      },
      "execution_count": null,
      "outputs": [
        {
          "output_type": "stream",
          "name": "stdout",
          "text": [
            "0.9090909090909091\n"
          ]
        }
      ]
    },
    {
      "cell_type": "markdown",
      "source": [
        "**Text Classification**"
      ],
      "metadata": {
        "id": "P5ZiFXNxt4hc"
      }
    },
    {
      "cell_type": "code",
      "source": [
        "import nltk\n",
        "import random\n",
        "from nltk.corpus import movie_reviews\n",
        "nltk.download('movie_reviews')"
      ],
      "metadata": {
        "colab": {
          "base_uri": "https://localhost:8080/"
        },
        "id": "4lMZYriUt9Tz",
        "outputId": "f5754ce0-ee67-42fa-ab01-6922dce7056a"
      },
      "execution_count": 5,
      "outputs": [
        {
          "output_type": "stream",
          "name": "stderr",
          "text": [
            "[nltk_data] Downloading package movie_reviews to /root/nltk_data...\n",
            "[nltk_data]   Unzipping corpora/movie_reviews.zip.\n"
          ]
        },
        {
          "output_type": "execute_result",
          "data": {
            "text/plain": [
              "True"
            ]
          },
          "metadata": {},
          "execution_count": 5
        }
      ]
    },
    {
      "cell_type": "code",
      "source": [
        "documents=[]\n",
        "for category in movie_reviews.categories():\n",
        "  for fileid in movie_reviews.fileids(category):\n",
        "    documents.append((list(movie_reviews.words(fileid)),category))\n",
        "random.shuffle(documents)\n",
        "print(documents[7])"
      ],
      "metadata": {
        "colab": {
          "base_uri": "https://localhost:8080/"
        },
        "id": "QLE8Nwc5wX_5",
        "outputId": "1c9ab1f5-c806-4017-9a2b-75b56412a9a4"
      },
      "execution_count": 8,
      "outputs": [
        {
          "output_type": "stream",
          "name": "stdout",
          "text": [
            "(['how', 'do', 'you', 'judge', 'a', 'film', 'that', 'is', 'so', 'bad', ',', 'but', 'intentionally', 'so', '?', 'in', 'spiceworld', ',', 'the', 'highly', 'popular', 'singing', 'group', 'the', 'spice', 'girls', 'accomplish', 'their', 'major', 'goal', ':', 'mocking', 'themselves', 'with', 'a', 'purposely', 'cheezy', 'film', 'and', 'having', 'a', 'lot', 'of', 'fun', 'doing', 'it', '.', 'if', 'that', 'was', 'their', 'goal', ',', 'they', 'did', 'a', 'fantastic', 'job', '.', 'so', 'is', 'it', 'fair', 'to', 'give', 'it', 'such', 'a', 'low', 'grade', 'when', 'it', 'wasn', \"'\", 't', 'really', 'meant', 'to', 'be', 'much', 'better', 'than', 'this', '?', 'honestly', ',', 'i', \"'\", 'd', 'rather', 'see', 'this', 'film', 'before', 'many', 'others', 'i', 'gave', 'higher', 'grades', ',', 'so', 'does', 'that', 'mean', 'i', 'graded', 'it', 'inaccurately', '?', 'truth', 'be', 'known', ',', 'i', 'don', \"'\", 't', 'really', 'think', 'i', 'can', 'answer', 'this', 'question', '.', 'to', 'understand', 'spiceworld', ',', 'you', 'have', 'to', 'understand', 'the', 'spice', 'girls', '.', 'unless', 'you', \"'\", 're', 'very', '*', 'very', '*', 'young', ',', 'or', 'fairly', 'older', ',', 'you', 'probably', 'have', 'at', 'least', 'heard', 'of', 'them', '.', 'they', \"'\", 're', 'a', 'group', 'of', 'five', 'busty', 'british', 'babes', 'who', \"'\", 've', 'had', '#', '1', 'hit', 'singles', 'and', 'whose', 'debut', 'album', 'sold', 'millions', '.', 'they', \"'\", 're', 'primarily', 'adored', 'by', 'pre', '-', 'teen', 'girls', 'who', 'hope', 'someday', 'the', 'contents', 'of', 'their', 'training', 'bras', 'might', 'match', 'those', 'of', 'ginger', 'spice', \"'\", 's', '(', 'real', 'name', ':', 'geri', 'haliwell', ')', 'wonderbra', '.', 'all', 'five', 'of', 'the', 'girls', 'have', 'these', '\"', 'spicy', '\"', 'names', 'for', 'which', 'they', 'are', 'better', 'known', 'than', 'their', 'real', 'names', '.', 'there', 'is', 'the', 'aforementioned', 'ginger', 'spice', ',', 'as', 'well', 'as', 'sporty', 'spice', '(', 'melanie', 'chisholm', ',', 'or', 'mel', 'c', '.', ')', ',', 'scary', 'spice', '(', 'melanie', 'brown', ',', 'or', 'mel', 'b', '.', ')', ',', 'baby', 'spice', '(', 'emma', 'bunton', ')', ',', 'and', 'posh', 'spice', '(', 'victoria', 'addams', ')', ',', 'and', 'all', 'of', 'them', ',', 'to', 'some', 'degree', 'or', 'another', ',', 'resemble', 'their', 'stage', 'names', '.', 'the', 'spice', 'girls', 'took', 'the', 'world', 'by', 'storm', ',', 'and', 'spiceworld', 'is', 'actually', 'a', 'good', '-', 'humored', 'spoof', 'of', 'all', 'that', 'transpired', 'during', 'their', 'quick', 'rise', 'to', 'fame', '.', 'it', \"'\", 's', 'quite', 'nice', 'to', 'see', 'what', 'good', 'sports', 'the', 'girls', 'are', '(', 'and', 'not', 'just', 'the', 'one', 'dubbed', 'sporty', ')', 'about', 'poking', 'fun', 'at', 'themselves', '.', 'they', 'don', \"'\", 't', 'take', 'themselves', 'too', 'seriously', ',', 'and', 'that', \"'\", 's', 'probably', 'the', 'best', 'thing', 'about', 'them', '.', 'it', \"'\", 's', 'also', 'surprising', 'how', 'natural', 'they', 'seem', 'in', 'front', 'of', 'the', 'camera', '*', 'acting', '*', ',', 'and', 'not', 'just', 'singing', 'and', 'dancing', '.', 'they', \"'\", 're', 'not', 'flawless', 'by', 'any', 'means', ',', 'but', 'for', 'the', 'most', 'part', ',', 'they', 'deliver', 'their', 'lines', 'without', 'feeling', 'staged', ',', 'and', ',', 'like', 'them', 'or', 'not', ',', 'we', 'get', 'the', 'sense', 'the', 'five', 'are', 'very', 'at', 'home', 'within', 'their', 'characters', '(', 'which', 'seems', 'reasonable', 'since', 'they', 'portray', 'themselves', ')', '.', 'what', 'makes', 'the', 'film', 'bad', 'is', 'that', 'extreme', 'fans', 'of', 'the', 'spice', 'girls', 'won', \"'\", 't', 'get', 'enough', 'of', 'their', 'music', ',', 'while', 'the', 'rest', 'of', 'us', 'don', \"'\", 't', 'get', 'enough', 'of', 'a', 'movie', '.', 'the', 'real', 'point', 'of', 'this', 'is', 'to', 'look', 'at', 'the', 'spice', 'girls', 'for', 'over', 'ninety', 'straight', 'minutes', '.', 'most', 'of', 'the', 'film', 'is', 'very', 'blas', '?', ',', 'but', 'several', 'parts', 'are', 'downright', 'boring', ',', 'and', 'then', 'they', 'have', 'those', 'sporadic', 'moments', 'that', 'actually', 'make', 'us', 'laugh', 'out', 'loud', '!', 'if', 'you', \"'\", 're', 'a', 'big', 'fan', 'of', 'the', 'group', ',', 'you', 'probably', 'won', \"'\", 't', 'get', 'enough', 'of', 'what', 'you', 'want', ',', 'and', 'if', 'you', \"'\", 're', 'not', 'a', 'big', 'fan', ',', 'you', 'get', 'too', 'much', 'time', 'devoted', 'to', 'nothing', 'more', 'than', '\"', 'look', 'at', 'us', '\"', 'moments', '.', 'for', 'the', 'right', 'crowd', ',', 'the', '\"', 'music', 'video', '\"', 'sequences', 'will', 'be', 'the', 'highlights', 'of', 'the', 'film', ',', 'but', 'for', 'others', ',', 'they', 'will', 'serve', 'as', 'three', '-', 'minute', 'lulls', 'in', 'a', 'hectic', '-', 'but', '-', 'overall', '-', 'uneventful', 'storyline', '.', 'other', 'key', 'actors', 'include', 'richard', 'e', '.', 'grant', 'as', 'clifford', ',', 'the', 'spice', 'girls', \"'\", 'manager', ',', 'alan', 'cumming', 'as', 'the', 'film', '-', 'maker', 'piers', 'cutherton', '-', 'smyth', 'who', 'attempts', 'to', 'make', 'a', 'documentary', 'of', 'the', 'group', ',', 'george', 'wendt', 'as', 'martin', 'barnfield', ',', 'a', 'producer', 'who', 'constantly', 'works', 'on', 'pitching', 'a', 'spice', 'girls', 'movie', ',', 'and', 'roger', 'moore', 'in', 'a', 'small', ',', 'self', '-', 'parodizing', 'role', '.', 'all', 'provide', 'relatively', 'good', 'performances', ',', 'keeping', 'in', 'mind', 'once', 'again', 'that', 'this', 'film', 'wasn', \"'\", 't', 'meant', 'to', 'be', 'acted', 'seriously', '.', 'even', 'meat', 'loaf', 'shows', 'up', 'as', 'dennis', 'the', 'bus', 'driver', 'and', 'seems', 'to', 'have', 'fun', 'with', 'it', '.', 'while', 'this', 'film', 'is', 'continuously', 'compared', 'to', 'the', 'beatles', \"'\", 'a', 'hard', 'day', \"'\", 's', 'night', ',', 'i', 'think', 'that', 'is', 'an', 'unjust', 'comparison', '.', 'it', 'is', 'supposedly', 'the', 'movie', 'studio', 'that', 'first', 'mad', 'the', 'comparison', 'by', 'way', 'of', 'press', 'kits', ',', 'but', 'i', 'don', \"'\", 't', 'think', 'drector', 'bob', 'spiers', ',', 'nor', 'the', 'spice', 'girls', ',', 'intended', 'it', 'to', 'be', 'so', '.', 'i', 'think', 'the', 'studios', 'were', 'just', 'trying', 'to', 'boost', 'hype', 'and', 'interest', 'in', 'the', 'film', ',', 'and', 'have', 'instead', ',', 'come', 'off', 'rather', 'pretentious', '.', 'i', 'don', \"'\", 't', 'think', 'this', 'film', 'is', 'trying', 'to', 'be', 'anything', 'more', 'than', 'a', 'fun', ',', 'satirical', 'look', 'at', 'a', 'group', 'that', 'got', 'so', 'big', ',', 'a', 'movie', 'seemed', 'the', 'next', 'likely', 'step', '.', 'and', 'what', 'could', \"'\", 've', 'been', 'better', 'than', 'a', 'self', '-', 'indulged', 'yet', 'self', '-', 'mocking', 'approach', '?', 'probably', 'nothing', ',', 'and', 'so', 'it', 'is', '.', 'spiceworld', 'is', 'a', 'movie', 'i', 'thought', 'would', 'be', 'embarrassing', 'to', 'enjoy', ',', 'but', 'now', 'instead', ',', 'i', 'find', 'myself', 'wanting', 'to', 'defend', 'a', 'movie', 'i', 'didn', \"'\", 't', 'even', 'give', 'a', 'good', 'review', '.', 'it', \"'\", 's', 'bad', ',', 'but', 'it', 'succeeds', 'in', 'every', 'way', 'it', 'intended', '.', 'it', 'gives', 'the', 'spice', 'girls', 'a', 'chance', 'to', 'play', 'while', 'allowing', 'all', 'those', 'obsessive', 'fans', 'out', 'there', 'to', 'indulge', 'in', 'every', 'brainless', 'moment', '.', 'perhaps', 'the', 'group', 'is', 'nothing', 'more', 'than', 'a', 'gimmick', '.', 'if', 'that', \"'\", 's', 'the', 'case', ',', 'the', 'movie', \"'\", 's', 'gimmick', 'is', 'that', 'it', '*', 'is', '*', 'such', 'a', 'gimmick', '!', 'you', 'might', 'be', 'saying', ',', '\"', 'a', 'spice', 'girls', 'movie', '?', 'come', 'on', '!', '\"', ',', 'but', 'when', 'it', 'comes', 'down', 'to', 'it', ',', 'i', 'think', 'that', \"'\", 's', 'the', 'point', '.'], 'neg')\n"
          ]
        }
      ]
    },
    {
      "cell_type": "code",
      "source": [
        "all_words=[]\n",
        "for w in movie_reviews.words():\n",
        "  all_words.append(w.lower())\n",
        "all_words=nltk.FreqDist(all_words)\n",
        "print(all_words.most_common(15))\n",
        "print(all_words['good'])"
      ],
      "metadata": {
        "colab": {
          "base_uri": "https://localhost:8080/"
        },
        "id": "lhixJqZbyNtx",
        "outputId": "cbcc489d-30d8-4ab4-fb12-c0d1c2953fd7"
      },
      "execution_count": 13,
      "outputs": [
        {
          "output_type": "stream",
          "name": "stdout",
          "text": [
            "[(',', 77717), ('the', 76529), ('.', 65876), ('a', 38106), ('and', 35576), ('of', 34123), ('to', 31937), (\"'\", 30585), ('is', 25195), ('in', 21822), ('s', 18513), ('\"', 17612), ('it', 16107), ('that', 15924), ('-', 15595)]\n",
            "2411\n"
          ]
        }
      ]
    },
    {
      "cell_type": "markdown",
      "source": [
        "**Convert Words into Features**"
      ],
      "metadata": {
        "id": "ft4zZpTj0_cO"
      }
    },
    {
      "cell_type": "code",
      "source": [
        "#starting of naive bayes classify text as positive or negative\n",
        "word_features=list(all_words.keys())[:200]\n",
        "def find_features(document):\n",
        "  words=set(document)\n",
        "  features={}\n",
        "  for w in word_features:\n",
        "    features[w]=w in words\n",
        "    return features\n",
        "\n",
        "print((find_features(movie_reviews.words('neg/cv000_29416.txt'))))\n",
        "featuresets=[(find_features(rev),category) for (rev,category) in documents]"
      ],
      "metadata": {
        "colab": {
          "base_uri": "https://localhost:8080/"
        },
        "id": "Okwzhkix1Kku",
        "outputId": "7852c9fb-cde5-465c-8c14-96b87debba90"
      },
      "execution_count": 37,
      "outputs": [
        {
          "output_type": "stream",
          "name": "stdout",
          "text": [
            "{'plot': True}\n"
          ]
        }
      ]
    },
    {
      "cell_type": "markdown",
      "source": [
        "**Naive Bayes Algo**"
      ],
      "metadata": {
        "id": "0Ya1eCcU9xwF"
      }
    },
    {
      "cell_type": "code",
      "source": [
        "training_set=featuresets[:245]\n",
        "testing_set=featuresets[245:]\n",
        "\n",
        "classifier=nltk.NaiveBayesClassifier.train(training_set)\n",
        "print(\"Naive Bayes Algo Accuracy:\",(nltk.classify.accuracy(classifier,testing_set))*100)\n",
        "classifier.show_most_informative_features(10)"
      ],
      "metadata": {
        "colab": {
          "base_uri": "https://localhost:8080/"
        },
        "id": "rw1-Qr7r98YV",
        "outputId": "e8157a41-ccb4-442f-9be0-3d5a67f15a4c"
      },
      "execution_count": 34,
      "outputs": [
        {
          "output_type": "stream",
          "name": "stdout",
          "text": [
            "Naive Bayes Algo Accuracy: 49.914529914529915\n",
            "Most Informative Features\n"
          ]
        }
      ]
    },
    {
      "cell_type": "markdown",
      "source": [
        "**Save Classifier with Pickle**"
      ],
      "metadata": {
        "id": "BddLndxHDVNS"
      }
    },
    {
      "cell_type": "code",
      "source": [
        "import pickle\n",
        "save_classifier=open('naivebayes.pickle','wb')\n",
        "pickle.dump(classifier,save_classifier)\n",
        "save_classifier.close()"
      ],
      "metadata": {
        "id": "j5RZiW1UDdPr"
      },
      "execution_count": 38,
      "outputs": []
    }
  ]
}